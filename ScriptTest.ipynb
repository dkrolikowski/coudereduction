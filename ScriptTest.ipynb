{
 "cells": [
  {
   "cell_type": "code",
   "metadata": {
    "collapsed": true
   },
   "outputs": [],
   "source": [
    "import matplotlib.pyplot as plt\n",
    "import DMK_go_coude as Fns\n",
    "import numpy as np\n",
    "import os, readcol\n",
    "import scipy.optimize as optim\n",
    "import scipy.interpolate as interp\n",
    "import pickle\n",
    "\n",
    "from astropy.io import fits \n",
    "from mpfit import mpfit\n",
    "from scipy import signal\n",
    "\n",
    "%matplotlib inline"
   ]
  },
  {
   "cell_type": "code",
   "metadata": {
    "collapsed": true
   },
   "outputs": [],
   "source": [
    "dir = os.getenv(\"HOME\") + '/Research/YMG/coude_data/20140321/'\n",
    "rdir = dir + 'reduction/'\n",
    "codedir = os.getenv(\"HOME\") + '/codes/coudereduction/'\n",
    "#codedir = os.getenv(\"HOME\") + '/Research/Codes/coudereduction/'"
   ]
  },
  {
   "cell_type": "code",
   "metadata": {
    "collapsed": true
   },
   "outputs": [],
   "source": [
    "os.chdir(dir)"
   ]
  },
  {
   "cell_type": "code",
   "metadata": {
    "scrolled": true
   },
   "outputs": [],
   "source": [
    "DarkCurVal = 0.0\n",
    "\n",
    "InfoFile = 'headstrip.csv'\n",
    "FileInfo = readcol.readcol( InfoFile, fsep = ',', asRecArray = True )\n",
    "DarkCube = FileInfo.ExpTime * DarkCurVal\n",
    "\n",
    "BiasInds = np.where( FileInfo.Type == 'zero' )[0]\n",
    "FlatInds = np.where( FileInfo.Type == 'flat' )[0]\n",
    "ArcInds  = np.where( (FileInfo.Type == 'comp') & ( (FileInfo.Object == 'Thar') | (FileInfo.Object == 'THAR') | (FileInfo.Object == 'A') ) )[0]\n",
    "ObjInds  = np.where( (FileInfo.Type == 'object') & (FileInfo.Object != 'SolPort') & (FileInfo.Object != 'solar port') & (FileInfo.Object != 'solar_ort') )[0]\n",
    "\n",
    "CalsDone = True\n",
    "SuperBias, FlatField = Fns.Basic_Cals( FileInfo.File[BiasInds], FileInfo.File[FlatInds], CalsDone, rdir, plots = False )\n",
    "\n",
    "ShowBPM = False\n",
    "BPM = Fns.Make_BPM( SuperBias, FlatField, 99.9, ShowBPM )\n",
    "\n",
    "RdNoise  = FileInfo.rdn[ArcInds] / FileInfo.gain[ArcInds]\n",
    "DarkCur  = DarkCube[ArcInds] / FileInfo.gain[ArcInds]\n",
    "ArcCube, ArcSNR = Fns.Make_Cube( FileInfo.File[ArcInds], RdNoise, DarkCur, Bias = SuperBias )\n",
    "\n",
    "RdNoise  = FileInfo.rdn[ObjInds] / FileInfo.gain[ObjInds]\n",
    "DarkCur  = DarkCube[ObjInds] / FileInfo.gain[ObjInds]\n",
    "ObjCube, ObjSNR = Fns.Make_Cube( FileInfo.File[ObjInds], RdNoise, DarkCur, Bias = SuperBias, Flat = FlatField, BPM = BPM )\n",
    "\n",
    "OrderStart = -32\n",
    "TraceDone = True\n",
    "MedCut = 95.0\n",
    "MedTrace, FitTrace = Fns.Get_Trace( FlatField, ObjCube, OrderStart, MedCut, rdir, TraceDone, plots = False )\n",
    "\n",
    "spec       = pickle.load(open(rdir+'extracted_spec_oldway.pkl','rb'))\n",
    "sig_spec   = pickle.load(open(rdir+'extracted_sigspec_oldway.pkl','rb'))\n",
    "wspec      = pickle.load(open(rdir+'extracted_wspec_oldway.pkl','rb'))\n",
    "sig_wspec  = pickle.load(open(rdir+'extracted_sigwspec_oldway.pkl','rb'))\n",
    "\n",
    "wspec      = wspec[:,::-1,:]\n",
    "sig_wspec  = sig_wspec[:,::-1,:]\n",
    "spec       = spec[:,::-1,:]\n",
    "sig_spec   = sig_spec[:,::-1,:]"
   ]
  },
  {
   "cell_type": "code",
   "metadata": {
    "collapsed": true
   },
   "outputs": [],
   "source": [
    "#fullspec, fullsig_spec = Fns.extractor( ObjCube, ObjSNR, FitTrace, quick = False, nosub = False, arc = False )"
   ]
  },
  {
   "cell_type": "code",
   "metadata": {
    "collapsed": true
   },
   "outputs": [],
   "source": [
    "def Gaussian( x, A, mean, sigma, const ):\n",
    "    gauss = A * np.exp( - ( x - mean ) ** 2.0 / ( 2.0 * sigma ** 2 ) ) + const\n",
    "    return gauss\n",
    "    \n",
    "def TwoGaussian( x, A1, mean1, sigma1, const, A2, mean2, sigma2 ):\n",
    "    return Gaussian( x, A1, mean1, sigma1, const ) + Gaussian( x, A2, mean2, sigma2, const )"
   ]
  },
  {
   "cell_type": "code",
   "metadata": {
    "collapsed": true
   },
   "outputs": [],
   "source": [
    "def Get_WavSol( Cube, RoughSol, OrderToFit, plots = True ):\n",
    "    \n",
    "    orderdif = Cube.shape[1] - RoughSol.shape[0]\n",
    "    \n",
    "    arcspec   = Cube[0, OrderToFit, :]\n",
    "    startwsol = RoughSol[OrderToFit - orderdif]\n",
    "    \n",
    "    arcspec           = arcspec - np.min( arcspec )\n",
    "    belowmed          = np.where( arcspec < np.median( arcspec ) )\n",
    "    arcspec[belowmed] = np.median( arcspec )\n",
    "    logarcspec        = np.log10( arcspec )\n",
    "    logarcspec        = logarcspec - np.min( logarcspec )\n",
    "        \n",
    "    THAR        = fits.open( codedir + 'thar_photron.fits' )[0]\n",
    "    THARhead    = THAR.header\n",
    "    THARspec    = THAR.data\n",
    "    THARwav     = np.arange( len( THARspec ) ) * THARhead['CDELT1'] + THARhead['CRVAL1']\n",
    "    THARlines   = readcol.readcol( codedir + 'ThAr_list.txt', asRecArray = True )\n",
    "    logTHARspec = np.log10(THARspec)\n",
    "\n",
    "    wavsols, wavkeep = Fit_WavSol( startwsol, arcspec, THARlines.wav, [50], minsep = 1.5, plots = plots )\n",
    "\n",
    "    if plots == True:\n",
    "        plt.clf()\n",
    "        plt.plot( wavsols[-1], logarcspec, 'k-' )\n",
    "        plt.plot( THARwav, logTHARspec, 'r-' )\n",
    "        plt.xlim( wavsols[-1,0], wavsols[-1,-1] )\n",
    "        for peak in wavkeep:\n",
    "            plt.axvline( x = peak, color = 'b', ls = ':' )\n",
    "        plt.show()\n",
    "\n",
    "        Plot_Wavsol_Windows( wavsols, wavkeep, logarcspec, THARwav, logTHARspec )\n",
    "    \n",
    "    return wavsols, wavkeep\n",
    "\n",
    "def Plot_Wavsol_Windows( wavsols, wavkeep, spec, tharwav, tharspec ):\n",
    "    \n",
    "    plotwav  = wavsols[-1]\n",
    "    startwav = np.min( plotwav )\n",
    "    \n",
    "    while startwav <= np.max( plotwav ):\n",
    "        plt.clf()\n",
    "        plt.plot( plotwav, spec, 'k-' )\n",
    "        plt.plot( tharwav, tharspec, 'r-' )\n",
    "        plt.xlim( startwav, startwav + 10 )\n",
    "        for peak in wavkeep:\n",
    "            plt.axvline( x = peak, color = 'b', ls = ':' )\n",
    "        plt.show()\n",
    "        \n",
    "        startwav += 10\n",
    "        \n",
    "    return None"
   ]
  },
  {
   "cell_type": "code",
   "metadata": {
    "collapsed": true
   },
   "outputs": [],
   "source": [
    "def Find_Peaks_Wavelet( wav, spec, peaksnr = 5, pwidth = 10, minsep = 1 ):\n",
    "    \n",
    "    # Find peaks using the cwt routine from scipy.signal\n",
    "    peaks = signal.find_peaks_cwt( spec, np.arange( 1, 2 ), min_snr = peaksnr, noise_perc = 20 )\n",
    "    \n",
    "    # Offset from start/end of spectrum by some number of pixels\n",
    "    peaks = peaks[ (peaks > pwidth) & (peaks < len(spec) - pwidth) ]\n",
    "    \n",
    "    pixcent = np.array([])\n",
    "    wavcent = np.array([])\n",
    "        \n",
    "    for peak in peaks:\n",
    "        \n",
    "        xi   = wav[peak - pwidth:peak + pwidth]\n",
    "        yi   = spec[peak - pwidth:peak + pwidth]\n",
    "        inds = np.arange( len(xi), dtype = float )\n",
    "        \n",
    "        pguess   = [ yi[9], np.median( inds ), 0.9, np.median( spec ) ]\n",
    "        lowerbds = [ 0.1*pguess[0], pguess[1] - 2.0, 0.3, 0.0  ]\n",
    "        upperbds = [ np.inf, pguess[1] + 2.0, 1.5, np.inf ]\n",
    "        \n",
    "        try:\n",
    "            params, pcov = optim.curve_fit( Gaussian, inds, yi, p0 = pguess, bounds = (lowerbds,upperbds) )\n",
    "            \n",
    "            pixval  = peak - pwidth + params[1]\n",
    "            pixcent = np.append( pixcent, pixval )\n",
    "            \n",
    "            ceiling = np.ceil( pixval ).astype(int)\n",
    "            floor   = np.floor( pixval ).astype(int)\n",
    "            slope   = ( wav[ceiling] - wav[floor] ) / ( ceiling - floor )\n",
    "            wavval  = wav[floor] + slope * ( pixval - floor )\n",
    "            wavcent = np.append( wavcent, wavval )\n",
    "            \n",
    "        except RuntimeError:\n",
    "            pixval  = 'nan'\n",
    "            \n",
    "    vals = spec[pixcent.astype(int)]\n",
    "    oks  = np.ones( len(pixcent), int )\n",
    "    \n",
    "    for i in range( len(wavcent) ):\n",
    "        dist  = np.absolute( wavcent - wavcent[i] )\n",
    "        close = np.where( dist <= minsep )[0]\n",
    "        small = np.where( vals[close] < np.max( vals[close] ) )[0]\n",
    "        if len(small) != 0: oks[close[small]] = -1\n",
    "            \n",
    "    keep    = np.where( oks == 1 )\n",
    "    pixcent = pixcent[keep]\n",
    "    wavcent = wavcent[keep]\n",
    "            \n",
    "    return pixcent, wavcent\n",
    "\n",
    "def Fit_WavSol( wav, spec, linecatalog, snrarr, pwidth = 10, minsep = 1, plots = True ):\n",
    "    \n",
    "    wavsols    = np.zeros( ( len(snrarr) + 1, len(spec) ) )\n",
    "    wavsols[0] = wav\n",
    "    \n",
    "    for i in range( len(snrarr) ):\n",
    "        \n",
    "        pixcent, wavcent = Find_Peaks_Wavelet( wavsols[i], spec, peaksnr = snrarr[i], minsep = minsep )\n",
    "        \n",
    "        THARthisord = [ line for line in linecatalog if line > wavsols[i,0] and line < wavsols[i,-1] ]\n",
    "        \n",
    "        pixkeep   = np.array([])\n",
    "        wavkeep   = np.array([])\n",
    "        lineskeep = np.array([])\n",
    "\n",
    "        pixrej   = np.array([])\n",
    "        wavrej   = np.array([])\n",
    "        linesrej = np.array([])\n",
    "\n",
    "        for j in range( len(wavcent) ):\n",
    "            dists    = np.absolute( THARthisord - wavcent[j] )\n",
    "            mindist  = np.min( dists )\n",
    "            mindisti = np.argmin( dists )\n",
    "            \n",
    "            if mindist <= 1.5:\n",
    "                pixkeep   = np.append( pixkeep, pixcent[j] )\n",
    "                wavkeep   = np.append( wavkeep, wavcent[j] )\n",
    "                lineskeep = np.append( lineskeep, THARthisord[mindisti] )\n",
    "        \n",
    "        dofit = True\n",
    "        \n",
    "        while dofit:\n",
    "            wavparams  = np.polyfit( pixkeep, lineskeep, 4 )\n",
    "            ptsfromfit = np.polyval( wavparams, pixkeep )\n",
    "            \n",
    "            wavresids  = ptsfromfit - lineskeep\n",
    "            wavabsdev  = np.absolute( wavresids )\n",
    "            \n",
    "            velresids  = wavresids / lineskeep * 3e5\n",
    "            velabsdev  = np.absolute( velresids )\n",
    "            \n",
    "            abovekms   = len( np.where( velresids >= 1.0 )[0] )\n",
    "            \n",
    "            toreject   = wavabsdev >= 3.0 * np.median( wavabsdev )\n",
    "            tokeep     = np.logical_not( toreject )\n",
    "            numrej     = len( np.where( toreject == True )[0] )\n",
    "                        \n",
    "            if abovekms > 0:                \n",
    "                if numrej > 0:\n",
    "                    pixrej    = pixkeep[toreject]\n",
    "                    wavrej    = wavkeep[toreject]\n",
    "                    linesrej  = lineskeep[toreject]\n",
    "\n",
    "                    pixkeep   = pixkeep[tokeep]\n",
    "                    wavkeep   = wavkeep[tokeep]\n",
    "                    lineskeep = lineskeep[tokeep]\n",
    "\n",
    "                    if plots:\n",
    "                        plt.clf()\n",
    "                        fig, (wavax, velax) = plt.subplots( 2, 1, sharex = 'all' )\n",
    "                        wavax.axhline( y = 0.0, color = 'k', ls = ':')\n",
    "                        velax.axhline( y = 0.0, color = 'k', ls = ':')\n",
    "                        wavax.plot( linesrej, wavresids[toreject], 'kx' )\n",
    "                        wavax.plot( lineskeep, wavresids[tokeep], 'ko', mfc = 'none' )\n",
    "                        velax.plot( linesrej, velresids[toreject], 'kx' )\n",
    "                        velax.plot( lineskeep, velresids[tokeep], 'ko', mfc = 'none' )\n",
    "                        for x in [ -3, 3 ]:\n",
    "                            wavax.axhline( y = x * np.median( wavabsdev ), color = 'r', ls = '--' )\n",
    "                            velax.axhline( y = x * np.median( velabsdev ), color = 'r', ls = '--' )\n",
    "                        wavax.set_ylabel('Resids ($\\AA$)')\n",
    "                        velax.set_ylabel('Resids (km/s)' )\n",
    "                        fig.subplots_adjust(hspace=0)\n",
    "                        plt.show()\n",
    "                    \n",
    "                elif numrej == 0:\n",
    "                    print 'There is something seriously wrong.\\n'\n",
    "                    print 'There are points > 1 km/s, but none are found to be rejected. FIX'\n",
    "                    break\n",
    "                \n",
    "            else:\n",
    "                if plots:\n",
    "                    plt.clf()\n",
    "                    fig, (wavax, velax) = plt.subplots( 2, 1, sharex = 'all' )\n",
    "                    wavax.axhline( y = 0.0, color = 'k', ls = ':')\n",
    "                    velax.axhline( y = 0.0, color = 'k', ls = ':')\n",
    "                    wavax.plot( lineskeep, wavresids, 'ko', mfc = 'none' )\n",
    "                    velax.plot( lineskeep, velresids, 'ko', mfc = 'none' )\n",
    "                    for x in [ -3, 3 ]:\n",
    "                        wavax.axhline( y = x * np.median( wavabsdev ), color = 'r', ls = '--' )\n",
    "                        velax.axhline( y = x * np.median( velabsdev ), color = 'r', ls = '--' )\n",
    "                    wavax.set_ylabel('Resids ($\\AA$)')\n",
    "                    velax.set_ylabel('Resids (km/s)' )\n",
    "                    fig.subplots_adjust(hspace=0)\n",
    "                    plt.show()\n",
    "                    print 'No points are worse than 1 km/s, fit good.'\n",
    "\n",
    "                dofit = False\n",
    "        \n",
    "        wavsol       = np.polyval( wavparams, np.arange( len(spec) ) )\n",
    "        wavsols[i+1] = wavsol\n",
    "        \n",
    "    return wavsols, wavkeep"
   ]
  },
  {
   "cell_type": "code",
   "metadata": {},
   "outputs": [],
   "source": [
    "#testord = wspec.shape[1] - 15 - 1\n",
    "testord = 58\n",
    "oldwsol = pickle.load( open( codedir + 'global_wsol_arizz.pkl', 'rb' ) )[0]\n",
    "oldord  = testord - ( wspec.shape[1] - oldwsol.shape[0] )\n",
    "\n",
    "print testord, oldord"
   ]
  },
  {
   "cell_type": "code",
   "metadata": {},
   "outputs": [],
   "source": [
    "wavsols, wavkeep = Get_WavSol( wspec, oldwsol, testord )"
   ]
  },
  {
   "cell_type": "code",
   "metadata": {},
   "outputs": [],
   "source": [
    "print testord\n",
    "print len( wavkeep )\n",
    "print np.min( wavsols[-1] )\n",
    "print np.max( wavsols[-1] )"
   ]
  },
  {
   "cell_type": "code",
   "metadata": {},
   "outputs": [],
   "source": [
    "print oldwsol[47]"
   ]
  },
  {
   "cell_type": "code",
   "metadata": {
    "collapsed": true
   },
   "outputs": [],
   "source": []
  }
 ],
 "metadata": {
  "git": {
   "suppress_outputs": true
  },
  "kernelspec": {
   "display_name": "Python 2",
   "language": "python",
   "name": "python2"
  },
  "language_info": {
   "codemirror_mode": {
    "name": "ipython",
    "version": 2
   },
   "file_extension": ".py",
   "mimetype": "text/x-python",
   "name": "python",
   "nbconvert_exporter": "python",
   "pygments_lexer": "ipython2",
   "version": "2.7.13"
  }
 },
 "nbformat": 4,
 "nbformat_minor": 1
}