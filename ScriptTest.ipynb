{
 "cells": [
  {
   "cell_type": "code",
   "execution_count": 1,
   "metadata": {
    "collapsed": true
   },
   "outputs": [],
   "source": [
    "import matplotlib.pyplot as plt\n",
    "import DMK_go_coude as Fns\n",
    "import numpy as np\n",
    "import os, readcol\n",
    "import scipy.optimize as optim\n",
    "import scipy.interpolate as interp\n",
    "import pickle\n",
    "\n",
    "from astropy.io import fits \n",
    "from mpfit import mpfit\n",
    "from scipy import signal\n",
    "\n",
    "%matplotlib inline"
   ]
  },
  {
   "cell_type": "code",
   "execution_count": 2,
   "metadata": {
    "collapsed": true
   },
   "outputs": [],
   "source": [
    "dir = os.getenv(\"HOME\") + '/Research/YMG/coude_data/20140321/'\n",
    "rdir = dir + 'reduction/'\n",
    "#codedir = os.getenv(\"HOME\") + '/codes/tullcoude/'\n",
    "codedir = os.getenv(\"HOME\") + '/Research/Codes/coudereduction/'"
   ]
  },
  {
   "cell_type": "code",
   "execution_count": 3,
   "metadata": {
    "collapsed": true
   },
   "outputs": [],
   "source": [
    "os.chdir(dir)"
   ]
  },
  {
   "cell_type": "code",
   "execution_count": 4,
   "metadata": {},
   "outputs": [
    {
     "name": "stdout",
     "output_type": "stream",
     "text": [
      "WARNING: reading as string array because float array failed\n"
     ]
    }
   ],
   "source": [
    "DarkCurVal = 0.0\n",
    "\n",
    "InfoFile = 'headstrip.csv'\n",
    "FileInfo = readcol.readcol( InfoFile, fsep = ',', asRecArray = True )\n",
    "DarkCube = FileInfo.ExpTime * DarkCurVal"
   ]
  },
  {
   "cell_type": "code",
   "execution_count": 5,
   "metadata": {
    "collapsed": true
   },
   "outputs": [],
   "source": [
    "BiasInds = np.where( FileInfo.Type == 'zero' )[0]\n",
    "FlatInds = np.where( FileInfo.Type == 'flat' )[0]\n",
    "ArcInds  = np.where( (FileInfo.Type == 'comp') & ( (FileInfo.Object == 'Thar') | (FileInfo.Object == 'THAR') | (FileInfo.Object == 'A') ) )[0]\n",
    "ObjInds  = np.where( (FileInfo.Type == 'object') & (FileInfo.Object != 'SolPort') & (FileInfo.Object != 'solar port') & (FileInfo.Object != 'solar_ort') )[0]"
   ]
  },
  {
   "cell_type": "code",
   "execution_count": 6,
   "metadata": {},
   "outputs": [
    {
     "name": "stdout",
     "output_type": "stream",
     "text": [
      "Reading in premade Bias and Flat files\n"
     ]
    }
   ],
   "source": [
    "CalsDone = True\n",
    "SuperBias, FlatField = Fns.Basic_Cals( FileInfo.File[BiasInds], FileInfo.File[FlatInds], CalsDone, rdir, plots = False )"
   ]
  },
  {
   "cell_type": "code",
   "execution_count": 7,
   "metadata": {
    "collapsed": true
   },
   "outputs": [],
   "source": [
    "ShowBPM = False\n",
    "BPM = Fns.Make_BPM( SuperBias, FlatField, 99.9, ShowBPM )"
   ]
  },
  {
   "cell_type": "code",
   "execution_count": 8,
   "metadata": {},
   "outputs": [
    {
     "name": "stderr",
     "output_type": "stream",
     "text": [
      "DMK_go_coude.py:131: FutureWarning: comparison to `None` will result in an elementwise object comparison in the future.\n",
      "DMK_go_coude.py:132: FutureWarning: comparison to `None` will result in an elementwise object comparison in the future.\n",
      "DMK_go_coude.py:132: RuntimeWarning: divide by zero encountered in divide\n",
      "DMK_go_coude.py:132: RuntimeWarning: invalid value encountered in divide\n",
      "/Users/boydrummer94/anaconda/lib/python2.7/site-packages/numpy/lib/function_base.py:3569: RuntimeWarning: Invalid value encountered in median\n",
      "  RuntimeWarning)\n"
     ]
    }
   ],
   "source": [
    "RdNoise  = FileInfo.rdn[ArcInds] / FileInfo.gain[ArcInds]\n",
    "DarkCur  = DarkCube[ArcInds] / FileInfo.gain[ArcInds]\n",
    "ArcCube, ArcSNR = Fns.Make_Cube( FileInfo.File[ArcInds], RdNoise, DarkCur, Bias = SuperBias )\n",
    "\n",
    "RdNoise  = FileInfo.rdn[ObjInds] / FileInfo.gain[ObjInds]\n",
    "DarkCur  = DarkCube[ObjInds] / FileInfo.gain[ObjInds]\n",
    "ObjCube, ObjSNR = Fns.Make_Cube( FileInfo.File[ObjInds], RdNoise, DarkCur, Bias = SuperBias, Flat = FlatField, BPM = BPM )"
   ]
  },
  {
   "cell_type": "code",
   "execution_count": 9,
   "metadata": {
    "scrolled": true
   },
   "outputs": [
    {
     "name": "stdout",
     "output_type": "stream",
     "text": [
      "Reading in premade Trace and plotting on Flat:\n"
     ]
    }
   ],
   "source": [
    "OrderStart = -32\n",
    "TraceDone = True\n",
    "MedCut = 95.0\n",
    "MedTrace, FitTrace = Fns.Get_Trace( FlatField, ObjCube, OrderStart, MedCut, rdir, TraceDone, plots = False )"
   ]
  },
  {
   "cell_type": "code",
   "execution_count": 10,
   "metadata": {
    "collapsed": true
   },
   "outputs": [],
   "source": [
    "#fullspec, fullsig_spec = Fns.extractor( ObjCube, ObjSNR, FitTrace, quick = False, nosub = False, arc = False )"
   ]
  },
  {
   "cell_type": "code",
   "execution_count": 11,
   "metadata": {
    "collapsed": true
   },
   "outputs": [],
   "source": [
    "spec     = pickle.load(open(rdir+'extracted_spec_oldway.pkl','rb'))\n",
    "sig_spec = pickle.load(open(rdir+'extracted_sigspec_oldway.pkl','rb'))\n",
    "wspec     = pickle.load(open(rdir+'extracted_wspec_oldway.pkl','rb'))\n",
    "sig_wspec = pickle.load(open(rdir+'extracted_sigwspec_oldway.pkl','rb'))"
   ]
  },
  {
   "cell_type": "code",
   "execution_count": 12,
   "metadata": {
    "collapsed": true
   },
   "outputs": [],
   "source": [
    "wspec      = wspec[:,::-1,:]\n",
    "sig_wspec  = sig_wspec[:,::-1,:]\n",
    "spec       = spec[:,::-1,:]\n",
    "sig_spec   = sig_spec[:,::-1,:]"
   ]
  },
  {
   "cell_type": "code",
   "execution_count": 17,
   "metadata": {},
   "outputs": [],
   "source": [
    "#This is finding peaks using the scipy signal routine\n",
    "#peakind = signal.find_peaks_cwt( np.log10(wspec[0,startorder,:]), np.arange( 1, 50 ) )\n",
    "#print len( np.log10(wspec[0,startorder,:]) )\n",
    "#print len( np.arange( 1, 50 ) )\n",
    "#\n",
    "#plt.clf()\n",
    "#plt.plot( np.log10(wspec[0,startorder,:]), 'k-' )\n",
    "#for peak in peakind:\n",
    "#    plt.axvline( x = peak, color = 'r' )\n",
    "#plt.show()"
   ]
  },
  {
   "cell_type": "code",
   "execution_count": 18,
   "metadata": {},
   "outputs": [
    {
     "name": "stdout",
     "output_type": "stream",
     "text": [
      "Removing 1 rows that don't match most common length 2.                       \n",
      "4168 rows read into array.\n",
      "WARNING: reading as string array because float array failed\n"
     ]
    }
   ],
   "source": [
    "THAR      = fits.open( codedir + 'thar_photron.fits' )[0]\n",
    "THARhead  = THAR.header\n",
    "THARspec  = THAR.data\n",
    "THARwav   = np.arange( len( THARspec ) ) * THARhead['CDELT1'] + THARhead['CRVAL1']\n",
    "THARlines = readcol.readcol( codedir + 'ThAr_list.txt', asRecArray = True )\n",
    "\n",
    "#qwe            = np.where((THARwav >= np.min(roughwav-10)) & (THARwav <= np.max(roughwav+10)))[0] \n",
    "#ls             = THARspec[qwe] - np.min(THARspec[qwe])\n",
    "#region         = np.where(ls < np.median(ls))\n",
    "#ls[region]     = np.median(ls)"
   ]
  },
  {
   "cell_type": "code",
   "execution_count": 19,
   "metadata": {
    "collapsed": true
   },
   "outputs": [],
   "source": [
    "roughdisp  = 7000.0 / 60000.0 / 2.0\n",
    "wavestart  = 6957.0\n",
    "startorder = wspec.shape[1] - 15 - 1\n",
    "arcspec    = wspec[0,startorder,:]\n",
    "roughwav   = wavestart + roughdisp * np.arange( len( arcspec ) )\n",
    "\n",
    "arcspec           = arcspec - np.min( arcspec )\n",
    "belowmed          = np.where( arcspec < np.median( arcspec ) )\n",
    "arcspec[belowmed] = np.median( arcspec )\n",
    "logarcspec        = np.log10( arcspec )\n",
    "logarcspec        = logarcspec - np.min( logarcspec )"
   ]
  },
  {
   "cell_type": "code",
   "execution_count": 20,
   "metadata": {
    "collapsed": true
   },
   "outputs": [],
   "source": [
    "#newspec = np.log10(norder) - np.min(np.log10(norder))\n",
    "#thresh = np.percentile( newspec, 97 )\n",
    "#above  = np.where( newspec >= thresh )[0]"
   ]
  },
  {
   "cell_type": "code",
   "execution_count": 21,
   "metadata": {
    "collapsed": true
   },
   "outputs": [],
   "source": [
    "def Gaussian( x, A, mean, sigma, const ):\n",
    "    gauss = A * np.exp( - ( x - mean ) ** 2.0 / ( 2.0 * sigma ** 2 ) ) + const\n",
    "    return gauss\n",
    "    #return np.log10( gauss )"
   ]
  },
  {
   "cell_type": "code",
   "execution_count": 22,
   "metadata": {
    "collapsed": true
   },
   "outputs": [],
   "source": [
    "def find_peaks( wav, spec, pwidth = 10, plevel = 97, minsep = 1 ):\n",
    "    ##given a slice of wavecal spectrum, find line peaks above some significance level    \n",
    "    fluxthresh  = np.percentile( spec, plevel )\n",
    "    abovethresh = np.where( spec >= fluxthresh )[0]\n",
    "    \n",
    "    peaks = np.array([])\n",
    "    \n",
    "    for i in range( len( abovethresh ) ):\n",
    "        left    = np.max( [abovethresh[i] - pwidth, 0] )\n",
    "        right   = np.min( [abovethresh[i] + pwidth, len(spec) - 1] )\n",
    "        maxspot = np.argmax( spec[left:right] )\n",
    "        maxspot = maxspot + abovethresh[i] - pwidth\n",
    "        peaks   = np.append( peaks, maxspot.astype(int) )\n",
    "\n",
    "    peaks = np.unique( peaks ).astype( int )\n",
    "\n",
    "    ## offset from start/end of array by at least same number of pixels\n",
    "    peaks   = peaks[peaks > pwidth]\n",
    "    peaks   = peaks[peaks < ( len(spec) - pwidth )]\n",
    "    pixcent = np.array([])\n",
    "    wavcent = np.array([])\n",
    "    \n",
    "    ## for each peak, fit a gaussian to find center\n",
    "    for peak in peaks:\n",
    "\n",
    "        xi = wav[peak - pwidth:peak + pwidth]\n",
    "        yi = spec[peak - pwidth:peak + pwidth]\n",
    "        \n",
    "        pguess = [ np.nanmax( yi ), float( np.nanargmax( yi ) ), 2.0, np.median( spec ) ]\n",
    "        \n",
    "        try:\n",
    "            params, pcov = optim.curve_fit( Gaussian, np.arange(len(xi), dtype='float'), yi, p0 = pguess )\n",
    "\n",
    "            ## the gaussian center of the line in pixel units\n",
    "            pixval  = peak - pwidth + params[1]\n",
    "            pixcent = np.append( pixcent, pixval )\n",
    "            ## and the peak in wavelength units\n",
    "            #wavcent = np.append( wavcent, xi[np.nanargmax(yi)] )\n",
    "            ceiling = np.ceil( pixval ).astype(int)\n",
    "            floor   = np.floor( pixval ).astype(int)\n",
    "            slope   = ( wav[ceiling] - wav[floor] ) / ( ceiling - floor )\n",
    "            wavval  = wav[floor] + slope * ( pixval - floor )\n",
    "            wavcent = np.append( wavcent, wavval )\n",
    "            \n",
    "        except RuntimeError:\n",
    "            pixcent = np.append( pixcent, float('nan') )\n",
    "            wavcent = np.append( wavcent, float('nan') )\n",
    "\n",
    "    wavcent, wavdup = np.unique( wavcent, return_index = True )\n",
    "    pixcent = pixcent[wavdup]\n",
    "    notnan  = np.where( np.isfinite( pixcent ) )\n",
    "    wavcent = wavcent[notnan]\n",
    "    pixcent = pixcent[notnan]\n",
    "    vals = spec[pixcent.astype(int)]\n",
    "    oks  = np.zeros(len(pixcent),int)+1\n",
    "\n",
    "    ##now make sure nothing is closer than minsep in wavelength units\n",
    "    for i in range(len(wavcent)):\n",
    "        dist = np.absolute(wavcent - wavcent[i])\n",
    "        close = np.where(dist <= minsep)[0]\n",
    "        small = np.where(vals[close] < np.max(vals[close]))[0]\n",
    "        if len(small) != 0: oks[close[small]] = -1\n",
    "    keep = np.where(oks == 1)\n",
    "    pixcent = pixcent[keep]\n",
    "    wavcent = wavcent[keep]\n",
    "    \n",
    "    return pixcent, wavcent"
   ]
  },
  {
   "cell_type": "code",
   "execution_count": 26,
   "metadata": {},
   "outputs": [
    {
     "name": "stdout",
     "output_type": "stream",
     "text": [
      "7000.8036\n",
      "[ 6960.25    6965.4307  6989.6553  6992.2126  6999.6238  7018.5675\n",
      "  7030.2514  7045.797   7061.3942  7068.7358  7071.0942]\n"
     ]
    }
   ],
   "source": [
    "print THARthisord[15]\n",
    "print matched"
   ]
  },
  {
   "cell_type": "code",
   "execution_count": 24,
   "metadata": {
    "collapsed": true
   },
   "outputs": [],
   "source": [
    "pixcent, wavcent = find_peaks( roughwav, logarcspec, plevel = 97 )"
   ]
  },
  {
   "cell_type": "code",
   "execution_count": 61,
   "metadata": {},
   "outputs": [
    {
     "name": "stdout",
     "output_type": "stream",
     "text": [
      "[ 6960.25    6965.4307  6989.6553  6992.2126  6999.6238  7018.5675\n",
      "  7030.2514  7045.797   7061.3942  7068.7358  7071.0942]\n",
      "[ 6960.25   6962.312  6965.431  6969.298  6981.083  6985.472  6986.03\n",
      "  6989.655  6992.213  6992.697  6993.037  6993.987  6996.757  6999.271\n",
      "  6999.624  7000.804  7002.883  7007.096  7014.969  7015.317  7018.568\n",
      "  7020.484  7021.283  7025.225  7026.462  7028.023  7030.251  7032.931\n",
      "  7033.359  7033.652  7036.283  7038.72   7045.797  7053.62   7054.418\n",
      "  7055.901  7058.49   7059.525  7060.042  7060.654  7061.394  7064.452\n",
      "  7067.218  7068.736  7071.094  7071.48   7072.394  7074.256  7075.334]\n"
     ]
    }
   ],
   "source": [
    "thisorder   = [ np.min(roughwav), np.max(roughwav) ]\n",
    "THARthisord = [ line for line in THARlines.wav if line > thisorder[0] and line < thisorder[1] ]\n",
    "\n",
    "matched = np.zeros( len( wavcent ) )\n",
    "for i in range( len( wavcent ) ):\n",
    "    dists      = np.absolute( THARlines.wav - wavcent[i] )\n",
    "    mindist    = np.argmin( dists )\n",
    "    line       = THARlines.wav[mindist]\n",
    "    matched[i] = line\n",
    "    \n",
    "wavparams1 = np.polyfit( pixcent, matched, 3 )\n",
    "wavsol1    = np.polyval( wavparams1, np.arange( len( arcspec ) ) )\n",
    "\n",
    "#newwavcent = np.polyval( wavparams1, pixcent )\n",
    "#plt.plot( matched, newwavcent - matched, 'ko' )\n",
    "#plt.show()\n",
    "print matched\n",
    "print np.round(THARthisord,3)"
   ]
  },
  {
   "cell_type": "code",
   "execution_count": 64,
   "metadata": {},
   "outputs": [
    {
     "name": "stdout",
     "output_type": "stream",
     "text": [
      "8510.19129879\n"
     ]
    },
    {
     "data": {
      "image/png": "[encoded data removed]",
      "text/plain": [
       "<matplotlib.figure.Figure at 0x109edca10>"
      ]
     },
     "metadata": {},
     "output_type": "display_data"
    }
   ],
   "source": [
    "linetest = 0\n",
    "testwavs = [ wav for wav in wavsol1 if wav >= THARthisord[linetest] - 0.5 and wav <= THARthisord[linetest] + 0.5 ]\n",
    "testinds = [ np.where( wavsol1 == wav )[0][0] for wav in testwavs ]\n",
    "\n",
    "pguess = [ 1000, testwavs[np.argmax(arcspec[testinds])], 0.1, 0 ]\n",
    "params, pcov = optim.curve_fit( Gaussian, testwavs, arcspec[testinds], p0 = pguess )\n",
    "fit = Gaussian( testwavs, params[0], params[1], params[2], params[3] )\n",
    "print params[0]\n",
    "\n",
    "plt.plot( testwavs, arcspec[testinds], 'k-' )\n",
    "plt.plot( testwavs, Gaussian(testwavs, params[0], params[1], params[2], params[3] ), 'r-' )\n",
    "plt.show()"
   ]
  },
  {
   "cell_type": "markdown",
   "metadata": {},
   "source": [
    "##### "
   ]
  },
  {
   "cell_type": "code",
   "execution_count": null,
   "metadata": {
    "collapsed": true
   },
   "outputs": [],
   "source": [
    "matched = np.zeros( len( wavcent ) )\n",
    "for i in range( len( wavcent ) ):\n",
    "    dists   = np.absolute( THARlines.wav - wavcent[i] )\n",
    "    mindist = np.argmin( dists )\n",
    "    line    = THARlines.wav[mindist]\n",
    "    matched[i] = line"
   ]
  },
  {
   "cell_type": "code",
   "execution_count": null,
   "metadata": {
    "collapsed": true
   },
   "outputs": [],
   "source": [
    "matched"
   ]
  },
  {
   "cell_type": "code",
   "execution_count": null,
   "metadata": {
    "collapsed": true
   },
   "outputs": [],
   "source": [
    "pixcent"
   ]
  },
  {
   "cell_type": "code",
   "execution_count": null,
   "metadata": {
    "collapsed": true
   },
   "outputs": [],
   "source": [
    "wavparams = np.polyfit( pixcent, matched, 3 )\n",
    "wavsol    = np.polyval( wavparams, np.arange( len( arcspec ) ) )"
   ]
  },
  {
   "cell_type": "code",
   "execution_count": null,
   "metadata": {
    "collapsed": true
   },
   "outputs": [],
   "source": [
    "wavsol[np.floor(pixcent).astype(int)]"
   ]
  },
  {
   "cell_type": "code",
   "execution_count": null,
   "metadata": {
    "collapsed": true
   },
   "outputs": [],
   "source": [
    "plt.clf()\n",
    "plt.plot( THARwav, np.log10(THARspec), 'k-' )\n",
    "plt.plot( wavsol, logarcspec, 'r-' )\n",
    "plt.xlim( 6955, 7080 )\n",
    "plt.show()"
   ]
  },
  {
   "cell_type": "code",
   "execution_count": null,
   "metadata": {
    "collapsed": true
   },
   "outputs": [],
   "source": [
    "values = np.linspace( 0, 1000, 10000 ) # This is the equivalent of your Mpeak/Mv\n",
    "counts = [] # This is initializing an empty array for the N > each value\n",
    "\n",
    "# Loop through each of the values\n",
    "for value in values:\n",
    "    N = 0 # Initialize the N>value to 0, will add to it\n",
    "    for x in values: # Now loop through each value again\n",
    "        if x > value:\n",
    "            N += 1 # If it is greater than add to the counter\n",
    "    counts.append( N )\n",
    "plt.plot( values, counts, 'k-' )\n",
    "plt.show()"
   ]
  },
  {
   "cell_type": "code",
   "execution_count": null,
   "metadata": {
    "collapsed": true
   },
   "outputs": [],
   "source": []
  }
 ],
 "metadata": {
  "git": {
   "suppress_outputs": true
  },
  "kernelspec": {
   "display_name": "Python 2",
   "language": "python",
   "name": "python2"
  },
  "language_info": {
   "codemirror_mode": {
    "name": "ipython",
    "version": 2
   },
   "file_extension": ".py",
   "mimetype": "text/x-python",
   "name": "python",
   "nbconvert_exporter": "python",
   "pygments_lexer": "ipython2",
   "version": "2.7.11"
  }
 },
 "nbformat": 4,
 "nbformat_minor": 1
}
