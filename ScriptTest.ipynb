{
 "cells": [
  {
   "cell_type": "code",
   "metadata": {
    "collapsed": true
   },
   "outputs": [],
   "source": [
    "import matplotlib.pyplot as plt\n",
    "import DMK_go_coude as Fns\n",
    "import numpy as np\n",
    "import os, readcol\n",
    "import scipy.optimize as optim\n",
    "import scipy.interpolate as interp\n",
    "import pickle\n",
    "\n",
    "from astropy.io import fits \n",
    "from mpfit import mpfit\n",
    "from scipy import signal\n",
    "\n",
    "%matplotlib inline"
   ]
  },
  {
   "cell_type": "code",
   "metadata": {
    "collapsed": true
   },
   "outputs": [],
   "source": [
    "dir = os.getenv(\"HOME\") + '/Research/YMG/coude_data/20140321/'\n",
    "rdir = dir + 'reduction/'\n",
    "codedir = os.getenv(\"HOME\") + '/codes/coudereduction/'\n",
    "#codedir = os.getenv(\"HOME\") + '/Research/Codes/coudereduction/'"
   ]
  },
  {
   "cell_type": "code",
   "metadata": {
    "collapsed": true
   },
   "outputs": [],
   "source": [
    "os.chdir(dir)"
   ]
  },
  {
   "cell_type": "code",
   "metadata": {},
   "outputs": [],
   "source": [
    "DarkCurVal = 0.0\n",
    "\n",
    "InfoFile = 'headstrip.csv'\n",
    "FileInfo = readcol.readcol( InfoFile, fsep = ',', asRecArray = True )\n",
    "DarkCube = FileInfo.ExpTime * DarkCurVal"
   ]
  },
  {
   "cell_type": "code",
   "metadata": {
    "collapsed": true
   },
   "outputs": [],
   "source": [
    "BiasInds = np.where( FileInfo.Type == 'zero' )[0]\n",
    "FlatInds = np.where( FileInfo.Type == 'flat' )[0]\n",
    "ArcInds  = np.where( (FileInfo.Type == 'comp') & ( (FileInfo.Object == 'Thar') | (FileInfo.Object == 'THAR') | (FileInfo.Object == 'A') ) )[0]\n",
    "ObjInds  = np.where( (FileInfo.Type == 'object') & (FileInfo.Object != 'SolPort') & (FileInfo.Object != 'solar port') & (FileInfo.Object != 'solar_ort') )[0]"
   ]
  },
  {
   "cell_type": "code",
   "metadata": {},
   "outputs": [],
   "source": [
    "CalsDone = True\n",
    "SuperBias, FlatField = Fns.Basic_Cals( FileInfo.File[BiasInds], FileInfo.File[FlatInds], CalsDone, rdir, plots = False )"
   ]
  },
  {
   "cell_type": "code",
   "metadata": {
    "collapsed": true
   },
   "outputs": [],
   "source": [
    "ShowBPM = False\n",
    "BPM = Fns.Make_BPM( SuperBias, FlatField, 99.9, ShowBPM )"
   ]
  },
  {
   "cell_type": "code",
   "metadata": {},
   "outputs": [],
   "source": [
    "RdNoise  = FileInfo.rdn[ArcInds] / FileInfo.gain[ArcInds]\n",
    "DarkCur  = DarkCube[ArcInds] / FileInfo.gain[ArcInds]\n",
    "ArcCube, ArcSNR = Fns.Make_Cube( FileInfo.File[ArcInds], RdNoise, DarkCur, Bias = SuperBias )\n",
    "\n",
    "RdNoise  = FileInfo.rdn[ObjInds] / FileInfo.gain[ObjInds]\n",
    "DarkCur  = DarkCube[ObjInds] / FileInfo.gain[ObjInds]\n",
    "ObjCube, ObjSNR = Fns.Make_Cube( FileInfo.File[ObjInds], RdNoise, DarkCur, Bias = SuperBias, Flat = FlatField, BPM = BPM )"
   ]
  },
  {
   "cell_type": "code",
   "metadata": {
    "scrolled": true
   },
   "outputs": [],
   "source": [
    "OrderStart = -32\n",
    "TraceDone = True\n",
    "MedCut = 95.0\n",
    "MedTrace, FitTrace = Fns.Get_Trace( FlatField, ObjCube, OrderStart, MedCut, rdir, TraceDone, plots = False )"
   ]
  },
  {
   "cell_type": "code",
   "metadata": {
    "collapsed": true
   },
   "outputs": [],
   "source": [
    "#fullspec, fullsig_spec = Fns.extractor( ObjCube, ObjSNR, FitTrace, quick = False, nosub = False, arc = False )"
   ]
  },
  {
   "cell_type": "code",
   "metadata": {
    "collapsed": true
   },
   "outputs": [],
   "source": [
    "spec     = pickle.load(open(rdir+'extracted_spec_oldway.pkl','rb'))\n",
    "sig_spec = pickle.load(open(rdir+'extracted_sigspec_oldway.pkl','rb'))\n",
    "wspec     = pickle.load(open(rdir+'extracted_wspec_oldway.pkl','rb'))\n",
    "sig_wspec = pickle.load(open(rdir+'extracted_sigwspec_oldway.pkl','rb'))"
   ]
  },
  {
   "cell_type": "code",
   "metadata": {
    "collapsed": true
   },
   "outputs": [],
   "source": [
    "wspec      = wspec[:,::-1,:]\n",
    "sig_wspec  = sig_wspec[:,::-1,:]\n",
    "spec       = spec[:,::-1,:]\n",
    "sig_spec   = sig_spec[:,::-1,:]"
   ]
  },
  {
   "cell_type": "code",
   "metadata": {
    "collapsed": true
   },
   "outputs": [],
   "source": [
    "#This is finding peaks using the scipy signal routine\n",
    "#peakind = signal.find_peaks_cwt( np.log10(wspec[0,startorder,:]), np.arange( 1, 50 ) )\n",
    "#print len( np.log10(wspec[0,startorder,:]) )\n",
    "#print len( np.arange( 1, 50 ) )\n",
    "#\n",
    "#plt.clf()\n",
    "#plt.plot( np.log10(wspec[0,startorder,:]), 'k-' )\n",
    "#for peak in peakind:\n",
    "#    plt.axvline( x = peak, color = 'r' )\n",
    "#plt.show()"
   ]
  },
  {
   "cell_type": "code",
   "metadata": {},
   "outputs": [],
   "source": [
    "THAR      = fits.open( codedir + 'thar_photron.fits' )[0]\n",
    "THARhead  = THAR.header\n",
    "THARspec  = THAR.data\n",
    "THARwav   = np.arange( len( THARspec ) ) * THARhead['CDELT1'] + THARhead['CRVAL1']\n",
    "THARlines = readcol.readcol( codedir + 'ThAr_list.txt', asRecArray = True )\n",
    "\n",
    "#qwe            = np.where((THARwav >= np.min(roughwav-10)) & (THARwav <= np.max(roughwav+10)))[0] \n",
    "#ls             = THARspec[qwe] - np.min(THARspec[qwe])\n",
    "#region         = np.where(ls < np.median(ls))\n",
    "#ls[region]     = np.median(ls)"
   ]
  },
  {
   "cell_type": "code",
   "metadata": {
    "collapsed": true
   },
   "outputs": [],
   "source": [
    "roughdisp  = 7000.0 / 60000.0 / 2.0\n",
    "wavestart  = 6957.0\n",
    "startorder = wspec.shape[1] - 15 - 1\n",
    "arcspec    = wspec[0,startorder,:]\n",
    "roughwav   = wavestart + roughdisp * np.arange( len( arcspec ) )\n",
    "\n",
    "arcspec           = arcspec - np.min( arcspec )\n",
    "belowmed          = np.where( arcspec < np.median( arcspec ) )\n",
    "arcspec[belowmed] = np.median( arcspec )\n",
    "logarcspec        = np.log10( arcspec )\n",
    "logarcspec        = logarcspec - np.min( logarcspec )"
   ]
  },
  {
   "cell_type": "code",
   "metadata": {
    "collapsed": true
   },
   "outputs": [],
   "source": [
    "#newspec = np.log10(norder) - np.min(np.log10(norder))\n",
    "#thresh = np.percentile( newspec, 97 )\n",
    "#above  = np.where( newspec >= thresh )[0]"
   ]
  },
  {
   "cell_type": "code",
   "metadata": {
    "collapsed": true
   },
   "outputs": [],
   "source": [
    "def Gaussian( x, A, mean, sigma, const ):\n",
    "    gauss = A * np.exp( - ( x - mean ) ** 2.0 / ( 2.0 * sigma ** 2 ) ) + const\n",
    "    return gauss\n",
    "    #return np.log10( gauss )"
   ]
  },
  {
   "cell_type": "code",
   "metadata": {
    "collapsed": true
   },
   "outputs": [],
   "source": [
    "def find_peaks( wav, spec, pwidth = 10, plevel = 97, minsep = 1 ):\n",
    "    ##given a slice of wavecal spectrum, find line peaks above some significance level    \n",
    "    fluxthresh  = np.percentile( spec, plevel )\n",
    "    abovethresh = np.where( spec >= fluxthresh )[0]\n",
    "    \n",
    "    peaks = np.array([])\n",
    "    \n",
    "    for i in range( len( abovethresh ) ):\n",
    "        left    = np.max( [abovethresh[i] - pwidth, 0] )\n",
    "        right   = np.min( [abovethresh[i] + pwidth, len(spec) - 1] )\n",
    "        maxspot = np.argmax( spec[left:right] )\n",
    "        maxspot = maxspot + abovethresh[i] - pwidth\n",
    "        peaks   = np.append( peaks, maxspot.astype(int) )\n",
    "\n",
    "    peaks = np.unique( peaks ).astype( int )\n",
    "\n",
    "    ## offset from start/end of array by at least same number of pixels\n",
    "    peaks   = peaks[peaks > pwidth]\n",
    "    peaks   = peaks[peaks < ( len(spec) - pwidth )]\n",
    "    pixcent = np.array([])\n",
    "    wavcent = np.array([])\n",
    "    \n",
    "    ## for each peak, fit a gaussian to find center\n",
    "    for peak in peaks:\n",
    "\n",
    "        xi = wav[peak - pwidth:peak + pwidth]\n",
    "        yi = spec[peak - pwidth:peak + pwidth]\n",
    "        \n",
    "        pguess = [ np.nanmax( yi ), float( np.nanargmax( yi ) ), 2.0, np.median( spec ) ]\n",
    "        \n",
    "        try:\n",
    "            params, pcov = optim.curve_fit( Gaussian, np.arange(len(xi), dtype='float'), yi, p0 = pguess )\n",
    "\n",
    "            ## the gaussian center of the line in pixel units\n",
    "            pixval  = peak - pwidth + params[1]\n",
    "            pixcent = np.append( pixcent, pixval )\n",
    "            ## and the peak in wavelength units\n",
    "            #wavcent = np.append( wavcent, xi[np.nanargmax(yi)] )\n",
    "            ceiling = np.ceil( pixval ).astype(int)\n",
    "            floor   = np.floor( pixval ).astype(int)\n",
    "            slope   = ( wav[ceiling] - wav[floor] ) / ( ceiling - floor )\n",
    "            wavval  = wav[floor] + slope * ( pixval - floor )\n",
    "            wavcent = np.append( wavcent, wavval )\n",
    "            \n",
    "        except RuntimeError:\n",
    "            pixcent = np.append( pixcent, float('nan') )\n",
    "            wavcent = np.append( wavcent, float('nan') )\n",
    "\n",
    "    wavcent, wavdup = np.unique( wavcent, return_index = True )\n",
    "    pixcent = pixcent[wavdup]\n",
    "    notnan  = np.where( np.isfinite( pixcent ) )\n",
    "    wavcent = wavcent[notnan]\n",
    "    pixcent = pixcent[notnan]\n",
    "    vals = spec[pixcent.astype(int)]\n",
    "    oks  = np.zeros(len(pixcent),int)+1\n",
    "\n",
    "    ##now make sure nothing is closer than minsep in wavelength units\n",
    "    for i in range(len(wavcent)):\n",
    "        dist = np.absolute(wavcent - wavcent[i])\n",
    "        close = np.where(dist <= minsep)[0]\n",
    "        small = np.where(vals[close] < np.max(vals[close]))[0]\n",
    "        if len(small) != 0: oks[close[small]] = -1\n",
    "    keep = np.where(oks == 1)\n",
    "    pixcent = pixcent[keep]\n",
    "    wavcent = wavcent[keep]\n",
    "    \n",
    "    return pixcent, wavcent"
   ]
  },
  {
   "cell_type": "code",
   "metadata": {},
   "outputs": [],
   "source": [
    "print THARthisord[15]\n",
    "print matched"
   ]
  },
  {
   "cell_type": "code",
   "metadata": {
    "collapsed": true
   },
   "outputs": [],
   "source": [
    "pixcent, wavcent = find_peaks( roughwav, logarcspec, plevel = 97 )"
   ]
  },
  {
   "cell_type": "code",
   "metadata": {},
   "outputs": [],
   "source": [
    "thisorder   = [ np.min(roughwav), np.max(roughwav) ]\n",
    "THARthisord = [ line for line in THARlines.wav if line > thisorder[0] and line < thisorder[1] ]\n",
    "\n",
    "matched = np.zeros( len( wavcent ) )\n",
    "for i in range( len( wavcent ) ):\n",
    "    dists      = np.absolute( THARlines.wav - wavcent[i] )\n",
    "    mindist    = np.argmin( dists )\n",
    "    line       = THARlines.wav[mindist]\n",
    "    matched[i] = line\n",
    "    \n",
    "wavparams1 = np.polyfit( pixcent, matched, 3 )\n",
    "wavsol1    = np.polyval( wavparams1, np.arange( len( arcspec ) ) )\n",
    "\n",
    "#newwavcent = np.polyval( wavparams1, pixcent )\n",
    "#plt.plot( matched, newwavcent - matched, 'ko' )\n",
    "#plt.show()\n",
    "print matched\n",
    "print np.round(THARthisord,3)"
   ]
  },
  {
   "cell_type": "code",
   "metadata": {},
   "outputs": [],
   "source": [
    "linetest = 11\n",
    "testwavs = [ wav for wav in wavsol1 if wav >= THARthisord[linetest] - 5 and wav <= THARthisord[linetest] + 5 ]\n",
    "testinds = [ np.where( wavsol1 == wav )[0][0] for wav in testwavs ]\n",
    "\n",
    "pguess = [ np.max(arcspec[testinds]), testwavs[np.argmax(arcspec[testinds])], 0.1, 0 ]\n",
    "params, pcov = optim.curve_fit( Gaussian, testwavs, arcspec[testinds], p0 = pguess )\n",
    "fit = Gaussian( testwavs, params[0], params[1], params[2], params[3] )\n",
    "\n",
    "#plt.plot( testwavs, arcspec[testinds], 'k-' )\n",
    "#plt.plot( testwavs, Gaussian(testwavs, params[0], params[1], params[2], params[3] ), 'r-' )\n",
    "#plt.show()"
   ]
  },
  {
   "cell_type": "code",
   "metadata": {},
   "outputs": [],
   "source": [
    "fitsets = np.split( THARthisord, np.where( np.diff( THARthisord ) > 1 )[0]+1)"
   ]
  },
  {
   "cell_type": "code",
   "metadata": {},
   "outputs": [],
   "source": [
    "fitsets[5]"
   ]
  },
  {
   "cell_type": "code",
   "metadata": {},
   "outputs": [],
   "source": [
    "fitsets = []\n",
    "\n",
    "i = 0\n",
    "while i <= len( THARthisord ):\n",
    "    line  = THARthisord[i]\n",
    "    dists\n",
    "for i in range( len( THARthisord ) ):\n",
    "    dists    = np.absolute( THARthisord[i] - THARthisord )\n",
    "    tooclose = [ np.where( dists == dist )[0] for dist in dists if 0 < dist <= 1 ]\n",
    "    if len(tooclose) > 0:\n",
    "        fitsets.append(tooclose)"
   ]
  }
 ],
 "metadata": {
  "git": {
   "suppress_outputs": true
  },
  "kernelspec": {
   "display_name": "Python 2",
   "language": "python",
   "name": "python2"
  },
  "language_info": {
   "codemirror_mode": {
    "name": "ipython",
    "version": 2
   },
   "file_extension": ".py",
   "mimetype": "text/x-python",
   "name": "python",
   "nbconvert_exporter": "python",
   "pygments_lexer": "ipython2",
   "version": "2.7.13"
  }
 },
 "nbformat": 4,
 "nbformat_minor": 1
}