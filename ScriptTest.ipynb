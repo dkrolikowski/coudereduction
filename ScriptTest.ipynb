{
 "cells": [
  {
   "cell_type": "code",
   "metadata": {
    "collapsed": true
   },
   "outputs": [],
   "source": [
    "import matplotlib.pyplot as plt\n",
    "import DMK_go_coude as Fns\n",
    "import numpy as np\n",
    "import os, readcol\n",
    "import scipy.optimize as optim\n",
    "import scipy.interpolate as interp\n",
    "import pickle\n",
    "\n",
    "from astropy.io import fits \n",
    "from mpfit import mpfit\n",
    "from scipy import signal\n",
    "\n",
    "%matplotlib inline"
   ]
  },
  {
   "cell_type": "code",
   "metadata": {
    "collapsed": true
   },
   "outputs": [],
   "source": [
    "dir = os.getenv(\"HOME\") + '/Research/YMG/coude_data/20140321/'\n",
    "rdir = dir + 'reduction/'\n",
    "codedir = os.getenv(\"HOME\") + '/codes/coudereduction/'\n",
    "#codedir = os.getenv(\"HOME\") + '/Research/Codes/coudereduction/'"
   ]
  },
  {
   "cell_type": "code",
   "metadata": {
    "collapsed": true
   },
   "outputs": [],
   "source": [
    "os.chdir(dir)"
   ]
  },
  {
   "cell_type": "code",
   "metadata": {},
   "outputs": [],
   "source": [
    "DarkCurVal = 0.0\n",
    "\n",
    "InfoFile = 'headstrip.csv'\n",
    "FileInfo = readcol.readcol( InfoFile, fsep = ',', asRecArray = True )\n",
    "DarkCube = FileInfo.ExpTime * DarkCurVal"
   ]
  },
  {
   "cell_type": "code",
   "metadata": {
    "collapsed": true
   },
   "outputs": [],
   "source": [
    "BiasInds = np.where( FileInfo.Type == 'zero' )[0]\n",
    "FlatInds = np.where( FileInfo.Type == 'flat' )[0]\n",
    "ArcInds  = np.where( (FileInfo.Type == 'comp') & ( (FileInfo.Object == 'Thar') | (FileInfo.Object == 'THAR') | (FileInfo.Object == 'A') ) )[0]\n",
    "ObjInds  = np.where( (FileInfo.Type == 'object') & (FileInfo.Object != 'SolPort') & (FileInfo.Object != 'solar port') & (FileInfo.Object != 'solar_ort') )[0]"
   ]
  },
  {
   "cell_type": "code",
   "metadata": {},
   "outputs": [],
   "source": [
    "CalsDone = True\n",
    "SuperBias, FlatField = Fns.Basic_Cals( FileInfo.File[BiasInds], FileInfo.File[FlatInds], CalsDone, rdir, plots = False )"
   ]
  },
  {
   "cell_type": "code",
   "metadata": {
    "collapsed": true
   },
   "outputs": [],
   "source": [
    "ShowBPM = False\n",
    "BPM = Fns.Make_BPM( SuperBias, FlatField, 99.9, ShowBPM )"
   ]
  },
  {
   "cell_type": "code",
   "metadata": {},
   "outputs": [],
   "source": [
    "RdNoise  = FileInfo.rdn[ArcInds] / FileInfo.gain[ArcInds]\n",
    "DarkCur  = DarkCube[ArcInds] / FileInfo.gain[ArcInds]\n",
    "ArcCube, ArcSNR = Fns.Make_Cube( FileInfo.File[ArcInds], RdNoise, DarkCur, Bias = SuperBias )\n",
    "\n",
    "RdNoise  = FileInfo.rdn[ObjInds] / FileInfo.gain[ObjInds]\n",
    "DarkCur  = DarkCube[ObjInds] / FileInfo.gain[ObjInds]\n",
    "ObjCube, ObjSNR = Fns.Make_Cube( FileInfo.File[ObjInds], RdNoise, DarkCur, Bias = SuperBias, Flat = FlatField, BPM = BPM )"
   ]
  },
  {
   "cell_type": "code",
   "metadata": {
    "scrolled": true
   },
   "outputs": [],
   "source": [
    "OrderStart = -32\n",
    "TraceDone = True\n",
    "MedCut = 95.0\n",
    "MedTrace, FitTrace = Fns.Get_Trace( FlatField, ObjCube, OrderStart, MedCut, rdir, TraceDone, plots = False )"
   ]
  },
  {
   "cell_type": "code",
   "metadata": {
    "collapsed": true
   },
   "outputs": [],
   "source": [
    "#fullspec, fullsig_spec = Fns.extractor( ObjCube, ObjSNR, FitTrace, quick = False, nosub = False, arc = False )"
   ]
  },
  {
   "cell_type": "code",
   "metadata": {
    "collapsed": true
   },
   "outputs": [],
   "source": [
    "spec     = pickle.load(open(rdir+'extracted_spec_oldway.pkl','rb'))\n",
    "sig_spec = pickle.load(open(rdir+'extracted_sigspec_oldway.pkl','rb'))\n",
    "wspec     = pickle.load(open(rdir+'extracted_wspec_oldway.pkl','rb'))\n",
    "sig_wspec = pickle.load(open(rdir+'extracted_sigwspec_oldway.pkl','rb'))"
   ]
  },
  {
   "cell_type": "code",
   "metadata": {
    "collapsed": true
   },
   "outputs": [],
   "source": [
    "wspec      = wspec[:,::-1,:]\n",
    "sig_wspec  = sig_wspec[:,::-1,:]\n",
    "spec       = spec[:,::-1,:]\n",
    "sig_spec   = sig_spec[:,::-1,:]"
   ]
  },
  {
   "cell_type": "code",
   "metadata": {
    "collapsed": true
   },
   "outputs": [],
   "source": [
    "def Gaussian( x, A, mean, sigma, const ):\n",
    "    gauss = A * np.exp( - ( x - mean ) ** 2.0 / ( 2.0 * sigma ** 2 ) ) + const\n",
    "    return gauss\n",
    "    \n",
    "def TwoGaussian( x, A1, mean1, sigma1, const, A2, mean2, sigma2 ):\n",
    "    return Gaussian( x, A1, mean1, sigma1, const ) + Gaussian( x, A2, mean2, sigma2, const )"
   ]
  },
  {
   "cell_type": "code",
   "metadata": {},
   "outputs": [],
   "source": [
    "THAR      = fits.open( codedir + 'thar_photron.fits' )[0]\n",
    "THARhead  = THAR.header\n",
    "THARspec  = THAR.data\n",
    "THARwav   = np.arange( len( THARspec ) ) * THARhead['CDELT1'] + THARhead['CRVAL1']\n",
    "THARlines = readcol.readcol( codedir + 'ThAr_list.txt', asRecArray = True )\n",
    "\n",
    "logTHARspec = np.log10(THARspec)\n",
    "\n",
    "#qwe            = np.where((THARwav >= np.min(roughwav-10)) & (THARwav <= np.max(roughwav+10)))[0] \n",
    "#ls             = THARspec[qwe] - np.min(THARspec[qwe])\n",
    "#region         = np.where(ls < np.median(ls))\n",
    "#ls[region]     = np.median(ls)"
   ]
  },
  {
   "cell_type": "code",
   "metadata": {
    "collapsed": true
   },
   "outputs": [],
   "source": [
    "roughdisp  = 7000.0 / 60000.0 / 2.0\n",
    "wavestart  = 6957.0\n",
    "startorder = wspec.shape[1] - 15 - 1\n",
    "arcspec    = wspec[0,startorder,:]\n",
    "roughwav   = wavestart + roughdisp * np.arange( len( arcspec ) )\n",
    "\n",
    "arcspec           = arcspec - np.min( arcspec )\n",
    "belowmed          = np.where( arcspec < np.median( arcspec ) )\n",
    "arcspec[belowmed] = np.median( arcspec )\n",
    "logarcspec        = np.log10( arcspec )\n",
    "logarcspec        = logarcspec - np.min( logarcspec )"
   ]
  },
  {
   "cell_type": "code",
   "metadata": {},
   "outputs": [],
   "source": [
    "peaks = signal.find_peaks_cwt( arcspec, np.arange( 1, 2 ), min_snr = 1000, noise_perc = 20 )\n",
    "\n",
    "plt.plot( logarcspec, 'k-' )\n",
    "for peak in peaks:\n",
    "    plt.axvline( x = peak, color = 'r', ls = ':' )\n",
    "plt.xlim( 300, 500 )\n",
    "plt.show()"
   ]
  },
  {
   "cell_type": "code",
   "metadata": {},
   "outputs": [],
   "source": [
    "def Find_Peaks_Wavelet( wav, spec, peaksnr = 5, pwidth = 10, minsep = 1 ):\n",
    "    \n",
    "    # Find peaks using the cwt routine from scipy.signal\n",
    "    peaks = signal.find_peaks_cwt( arcspec, np.arange( 1, 2 ), min_snr = peaksnr, noise_perc = 20 )\n",
    "    \n",
    "    # Offset from start/end of spectrum by some number of pixels\n",
    "    peaks = peaks[ (peaks > pwidth) & (peaks < len(spec) - pwidth) ]\n",
    "    \n",
    "    pixcent = np.array([])\n",
    "    wavcent = np.array([])\n",
    "        \n",
    "    for peak in peaks:\n",
    "        \n",
    "        xi   = wav[peak - pwidth:peak + pwidth]\n",
    "        yi   = spec[peak - pwidth:peak + pwidth]\n",
    "        inds = np.arange( len(xi), dtype = float )\n",
    "        \n",
    "        pguess   = [ yi[9], np.median( inds ), 0.9, np.median( spec ) ]\n",
    "        lowerbds = [ 0.1*pguess[0], pguess[1] - 2.0, 0.3, 0.0  ]\n",
    "        upperbds = [ np.inf, pguess[1] + 2.0, 1.5, np.inf ]\n",
    "        \n",
    "        try:\n",
    "            params, pcov = optim.curve_fit( Gaussian, inds, yi, p0 = pguess, bounds = (lowerbds,upperbds) )\n",
    "            \n",
    "            pixval  = peak - pwidth + params[1]\n",
    "            pixcent = np.append( pixcent, pixval )\n",
    "            \n",
    "            ceiling = np.ceil( pixval ).astype(int)\n",
    "            floor   = np.floor( pixval ).astype(int)\n",
    "            slope   = ( wav[ceiling] - wav[floor] ) / ( ceiling - floor )\n",
    "            wavval  = wav[floor] + slope * ( pixval - floor )\n",
    "            wavcent = np.append( wavcent, wavval )\n",
    "            \n",
    "        except RuntimeError:\n",
    "            pixval  = 'nan'\n",
    "            \n",
    "    vals = spec[pixcent.astype(int)]\n",
    "    oks  = np.ones( len(pixcent), int )\n",
    "    \n",
    "    for i in range( len(wavcent) ):\n",
    "        dist  = np.absolute( wavcent - wavcent[i] )\n",
    "        close = np.where( dist <= minsep )[0]\n",
    "        small = np.where( vals[close] < np.max( vals[close] ) )[0]\n",
    "        if len(small) != 0: oks[close[small]] = -1\n",
    "    keep    = np.where( oks == 1 )\n",
    "    pixcent = pixcent[keep]\n",
    "    wavcent = wavcent[keep]\n",
    "            \n",
    "    return pixcent, wavcent"
   ]
  },
  {
   "cell_type": "code",
   "metadata": {},
   "outputs": [],
   "source": [
    "# Run 1 -- Min SNR = 1000\n",
    "snr = 1000\n",
    "pixcent1, wavcent1 = Find_Peaks_Wavelet( roughwav, arcspec, peaksnr = snr )\n",
    "\n",
    "plt.plot( logarcspec, 'k-' )\n",
    "for peak in pixcent1:\n",
    "    plt.axvline( peak, color = 'r', ls = ':' )\n",
    "plt.show()\n",
    "\n",
    "THARthisord = [ line for line in THARlines.wav if line > roughwav[0] and line < roughwav[-1] ]\n",
    "\n",
    "matchedpix  = np.array([])\n",
    "matchedwav  = np.array([])\n",
    "matchedline = np.array([])\n",
    "\n",
    "for i in range( len( wavcent1 ) ):\n",
    "    dists      = np.absolute( THARthisord - wavcent1[i] )\n",
    "    mindist    = np.min( dists )\n",
    "    mindistind = np.argmin( dists )\n",
    "    if mindist <= 1.5:\n",
    "        matchedpix  = np.append( matchedpix, pixcent1[i] )\n",
    "        matchedwav  = np.append( matchedwav, wavcent1[i] )\n",
    "        matchedline = np.append( matchedline, THARthisord[mindistind] )\n",
    "    \n",
    "wavparams1 = np.polyfit( matchedpix, matchedline, 3 )\n",
    "wavsol1    = np.polyval( wavparams1, np.arange( len( arcspec ) ) )\n",
    "newwavs1   = np.polyval( wavparams1, matchedpix )\n",
    "\n",
    "plt.plot( newwavs1, newwavs1 - matchedwav, 'kx' )\n",
    "plt.xlim( min(wavsol1) - 5, max(wavsol1) + 5 )\n",
    "plt.show()\n",
    "\n",
    "plt.plot( THARwav, logTHARspec, 'r-' )\n",
    "plt.plot( roughwav, logarcspec, 'b:' )\n",
    "plt.plot( wavsol1, logarcspec, 'k-' )\n",
    "plt.xlim( min(wavsol1) - 5, max(wavsol1) + 5 )\n",
    "plt.show()"
   ]
  },
  {
   "cell_type": "code",
   "metadata": {},
   "outputs": [],
   "source": [
    "# Run 2 -- Min SNR = 500\n",
    "snr = 500\n",
    "pixcent2, wavcent2 = Find_Peaks_Wavelet( wavsol1, arcspec, peaksnr = snr )\n",
    "\n",
    "plt.plot( logarcspec, 'k-' )\n",
    "for peak in pixcent2:\n",
    "    plt.axvline( peak, color = 'r', ls = ':' )\n",
    "plt.show()\n",
    "\n",
    "THARthisord = [ line for line in THARlines.wav if line > wavsol1[0] and line < wavsol1[-1] ]\n",
    "\n",
    "matchedpix  = np.array([])\n",
    "matchedwav  = np.array([])\n",
    "matchedline = np.array([])\n",
    "\n",
    "for i in range( len( wavcent2 ) ):\n",
    "    dists      = np.absolute( THARthisord - wavcent2[i] )\n",
    "    mindist    = np.min( dists )\n",
    "    mindistind = np.argmin( dists )\n",
    "    if mindist <= 1.5:\n",
    "        matchedpix  = np.append( matchedpix, pixcent2[i] )\n",
    "        matchedwav  = np.append( matchedwav, wavcent2[i] )\n",
    "        matchedline = np.append( matchedline, THARthisord[mindistind] )\n",
    "    \n",
    "wavparams2 = np.polyfit( matchedpix, matchedline, 5 )\n",
    "wavsol2    = np.polyval( wavparams2, np.arange( len( arcspec ) ) )\n",
    "newwavs2   = np.polyval( wavparams2, matchedpix )\n",
    "\n",
    "plt.plot( newwavs2, newwavs2 - matchedwav, 'kx' )\n",
    "plt.xlim( min(wavsol2) - 5, max(wavsol2) + 5 )\n",
    "plt.show()\n",
    "\n",
    "plt.plot( THARwav, logTHARspec, 'r-' )\n",
    "plt.plot( wavsol1, logarcspec, 'b:' )\n",
    "plt.plot( wavsol2, logarcspec, 'k-' )\n",
    "plt.xlim( min(wavsol2) - 5, max(wavsol2) + 5 )\n",
    "plt.show()"
   ]
  },
  {
   "cell_type": "code",
   "metadata": {},
   "outputs": [],
   "source": [
    "# Run 3 -- Min SNR = 100\n",
    "snr = 100\n",
    "pixcent3, wavcent3 = Find_Peaks_Wavelet( wavsol2, arcspec, peaksnr = snr )\n",
    "\n",
    "plt.plot( logarcspec, 'k-' )\n",
    "for peak in pixcent3:\n",
    "    plt.axvline( peak, color = 'r', ls = ':' )\n",
    "plt.show()\n",
    "\n",
    "THARthisord = [ line for line in THARlines.wav if line > wavsol2[0] and line < wavsol2[-1] ]\n",
    "\n",
    "matchedpix  = np.array([])\n",
    "matchedwav  = np.array([])\n",
    "matchedline = np.array([])\n",
    "\n",
    "for i in range( len( wavcent3 ) ):\n",
    "    dists      = np.absolute( THARthisord - wavcent3[i] )\n",
    "    mindist    = np.min( dists )\n",
    "    mindistind = np.argmin( dists )\n",
    "    if mindist <= 1.5:\n",
    "        matchedpix  = np.append( matchedpix, pixcent3[i] )\n",
    "        matchedwav  = np.append( matchedwav, wavcent3[i] )\n",
    "        matchedline = np.append( matchedline, THARthisord[mindistind] )\n",
    "    \n",
    "wavparams3 = np.polyfit( matchedpix, matchedline, 5 )\n",
    "wavsol3    = np.polyval( wavparams3, np.arange( len( arcspec ) ) )\n",
    "newwavs3   = np.polyval( wavparams3, matchedpix )\n",
    "\n",
    "plt.plot( newwavs3, newwavs3 - matchedwav, 'kx' )\n",
    "plt.xlim( min(wavsol3) - 5, max(wavsol3) + 5 )\n",
    "plt.show()\n",
    "\n",
    "plt.plot( THARwav, logTHARspec, 'r-' )\n",
    "plt.plot( wavsol2, logarcspec, 'b:' )\n",
    "plt.plot( wavsol3, logarcspec, 'k-' )\n",
    "plt.xlim( min(wavsol3) - 5, max(wavsol3) + 5 )\n",
    "plt.show()"
   ]
  },
  {
   "cell_type": "code",
   "metadata": {},
   "outputs": [],
   "source": [
    "# Run 4 -- Min SNR = 20\n",
    "snr = 20\n",
    "pixcent4, wavcent4 = Find_Peaks_Wavelet( wavsol3, arcspec, peaksnr = snr )\n",
    "\n",
    "plt.plot( logarcspec, 'k-' )\n",
    "for peak in pixcent4:\n",
    "    plt.axvline( peak, color = 'r', ls = ':' )\n",
    "plt.show()\n",
    "\n",
    "THARthisord = [ line for line in THARlines.wav if line > wavsol3[0] and line < wavsol3[-1] ]\n",
    "\n",
    "matchedpix  = np.array([])\n",
    "matchedwav  = np.array([])\n",
    "matchedline = np.array([])\n",
    "\n",
    "for i in range( len( wavcent4 ) ):\n",
    "    dists      = np.absolute( THARthisord - wavcent4[i] )\n",
    "    mindist    = np.min( dists )\n",
    "    mindistind = np.argmin( dists )\n",
    "    if mindist <= 1.5:\n",
    "        matchedpix  = np.append( matchedpix, pixcent4[i] )\n",
    "        matchedwav  = np.append( matchedwav, wavcent4[i] )\n",
    "        matchedline = np.append( matchedline, THARthisord[mindistind] )\n",
    "    \n",
    "wavparams4 = np.polyfit( matchedpix, matchedline, 6 )\n",
    "wavsol4    = np.polyval( wavparams4, np.arange( len( arcspec ) ) )\n",
    "newwavs4   = np.polyval( wavparams4, matchedpix )\n",
    "\n",
    "plt.plot( newwavs4, newwavs4 - matchedwav, 'kx' )\n",
    "plt.xlim( min(wavsol4) - 5, max(wavsol4) + 5 )\n",
    "plt.show()\n",
    "\n",
    "plt.plot( THARwav, logTHARspec, 'r-' )\n",
    "plt.plot( roughwav, logarcspec, 'b:' )\n",
    "plt.plot( wavsol4, logarcspec, 'k-' )\n",
    "plt.xlim( min(wavsol4) - 5, max(wavsol4) + 5 )\n",
    "plt.show()"
   ]
  },
  {
   "cell_type": "code",
   "metadata": {},
   "outputs": [],
   "source": [
    "# Run 4 -- Min SNR = 20\n",
    "snr = 5\n",
    "pixcent5, wavcent5 = Find_Peaks_Wavelet( wavsol4, arcspec, peaksnr = snr )\n",
    "\n",
    "plt.plot( logarcspec, 'k-' )\n",
    "for peak in pixcent5:\n",
    "    plt.axvline( peak, color = 'r', ls = ':' )\n",
    "plt.show()\n",
    "\n",
    "THARthisord = [ line for line in THARlines.wav if line > wavsol4[0] and line < wavsol4[-1] ]\n",
    "\n",
    "matchedpix  = np.array([])\n",
    "matchedwav  = np.array([])\n",
    "matchedline = np.array([])\n",
    "\n",
    "for i in range( len( wavcent5 ) ):\n",
    "    dists      = np.absolute( THARthisord - wavcent5[i] )\n",
    "    mindist    = np.min( dists )\n",
    "    mindistind = np.argmin( dists )\n",
    "    if mindist <= 1.5:\n",
    "        matchedpix  = np.append( matchedpix, pixcent5[i] )\n",
    "        matchedwav  = np.append( matchedwav, wavcent5[i] )\n",
    "        matchedline = np.append( matchedline, THARthisord[mindistind] )\n",
    "    \n",
    "wavparams5 = np.polyfit( matchedpix, matchedline, 6 )\n",
    "wavsol5    = np.polyval( wavparams5, np.arange( len( arcspec ) ) )\n",
    "newwavs5   = np.polyval( wavparams5, matchedpix )\n",
    "\n",
    "plt.plot( newwavs5, newwavs5 - matchedwav, 'kx' )\n",
    "plt.xlim( min(wavsol5) - 5, max(wavsol5) + 5 )\n",
    "plt.show()\n",
    "\n",
    "plt.plot( THARwav, logTHARspec, 'r-' )\n",
    "plt.plot( roughwav, logarcspec, 'b:' )\n",
    "plt.plot( wavsol5, logarcspec, 'k-' )\n",
    "plt.xlim( 7010, 7040 )\n",
    "plt.show()"
   ]
  },
  {
   "cell_type": "code",
   "metadata": {},
   "outputs": [],
   "source": [
    "pixcent, wavcent = Find_Peaks_Wavelet( roughwav, arcspec, peaksnr=5 )\n",
    "print wavcent\n",
    "print THARthisord"
   ]
  },
  {
   "cell_type": "code",
   "metadata": {},
   "outputs": [],
   "source": [
    "THARthisord = [ line for line in THARlines.wav if line > roughwav[0] and line < roughwav[-1] ]\n",
    "\n",
    "matchedpix  = np.array([])\n",
    "matchedwav  = np.array([])\n",
    "matchedline = np.array([])\n",
    "\n",
    "for i in range( len( wavcent ) ):\n",
    "    dists      = np.absolute( THARthisord - wavcent[i] )\n",
    "    mindist    = np.min( dists )\n",
    "    mindistind = np.argmin( dists )\n",
    "    if mindist <= 1.5:\n",
    "        matchedpix  = np.append( matchedpix, pixcent[i] )\n",
    "        matchedwav  = np.append( matchedwav, wavcent[i] )\n",
    "        matchedline = np.append( matchedline, THARthisord[mindistind] )\n",
    "    \n",
    "wavparams = np.polyfit( matchedpix, matchedline, 5 )\n",
    "wavspline = interp.InterpolatedUnivariateSpline( matchedpix, matchedline )\n",
    "wavsol    = np.polyval( wavparams, np.arange( len( arcspec ) ) )\n",
    "wavsolspl = wavspline( np.arange( len( arcspec ) ) )\n",
    "\n",
    "newwavs    = np.polyval( wavparams, matchedpix )\n",
    "newwavsspl = wavspline( matchedpix )\n",
    "\n",
    "#plt.plot( matchedline, newwavs - matchedline, 'ko' )\n",
    "plt.plot( matchedline, newwavsspl - matchedline, 'rx' )\n",
    "plt.show()\n",
    "\n",
    "#print matchedwav\n",
    "#print matchedline\n",
    "\n",
    "plt.plot( wavsolspl, logarcspec, 'k-' )\n",
    "plt.plot( THARwav, logTHARspec, 'r-' )\n",
    "plt.xlim( 6950, 7000 )\n",
    "plt.show()"
   ]
  },
  {
   "cell_type": "code",
   "metadata": {
    "collapsed": true
   },
   "outputs": [],
   "source": [
    "\n",
    "#THARthisord = [ line for line in THARlines.wav if line > thisorder[0] and line < thisorder[1] ]\n",
    "#\n",
    "#matched = np.zeros( len( wavcent ) )\n",
    "#for i in range( len( wavcent ) ):\n",
    "#    dists      = np.absolute( THARlines.wav - wavcent[i] )\n",
    "#    mindist    = np.argmin( dists )\n",
    "#    line       = THARlines.wav[mindist]\n",
    "#    matched[i] = line\n",
    "#    \n",
    "#wavparams1 = np.polyfit( pixcent, matched, 3 )\n",
    "#wavsol1    = np.polyval( wavparams1, np.arange( len( arcspec ) ) )\n",
    "#\n",
    "#newwavcent = np.polyval( wavparams1, pixcent )\n",
    "#plt.plot( matched, newwavcent - matched, 'ko' )\n",
    "#plt.show()"
   ]
  },
  {
   "cell_type": "code",
   "metadata": {
    "collapsed": true
   },
   "outputs": [],
   "source": [
    "#linetest = 6\n",
    "#testwavs = [ wav for wav in wavsol1 if wav >= THARthisord[linetest] - 2 and wav <= THARthisord[linetest] + 2 ]\n",
    "#testinds = [ np.where( wavsol1 == wav )[0][0] for wav in testwavs ]\n",
    "#\n",
    "#pguess = [ np.max(arcspec[testinds]), testwavs[np.argmax(arcspec[testinds])], 0.1, 0 ]\n",
    "#params, pcov = optim.curve_fit( Gaussian, testwavs, arcspec[testinds], p0 = pguess )\n",
    "#fit = Gaussian( testwavs, params[0], params[1], params[2], params[3] )\n",
    "#\n",
    "#plt.plot( testwavs, arcspec[testinds], 'k-' )\n",
    "#plt.plot( testwavs, Gaussian(testwavs, params[0], params[1], params[2], params[3] ), 'r.' )\n",
    "#plt.show()"
   ]
  },
  {
   "cell_type": "code",
   "metadata": {
    "collapsed": true
   },
   "outputs": [],
   "source": [
    "#fitsets = np.split( THARthisord, np.where( np.diff( THARthisord ) > 1 )[0]+1)\n",
    "#linetest = fitsets[14]\n",
    "#\n",
    "#testwavs = [ wav for wav in wavsol1 if np.median(linetest) - 2 <= wav <= np.median(linetest) + 2 ]\n",
    "#testinds = [ np.where( wavsol1 == wav )[0][0] for wav in testwavs ]\n",
    "#\n",
    "#pguess = [ np.max( arcspec[testinds] ), testwavs[np.argmax(arcspec[testinds])], 0.1, 0 ]\n",
    "#params, pcov = optim.curve_fit( Gaussian, testwavs, arcspec[testinds], p0 = pguess )\n",
    "#fit = Gaussian( testwavs, params[0], params[1], params[2], params[3] )\n",
    "#\n",
    "#pguess = [ np.max( arcspec[testinds] ), linetest[0], 0.1, 0, np.max( arcspec[testinds] ), linetest[1], 0.1 ]\n",
    "#params, pcov = optim.curve_fit( TwoGaussian, testwavs, arcspec[testinds], p0 = pguess )\n",
    "#fit = TwoGaussian( testwavs, params[0], params[1], params[2], params[3], params[4], params[5], params[6] )\n",
    "#print params[5]\n",
    "#\n",
    "#plt.plot( testwavs, arcspec[testinds], 'k-' )\n",
    "#plt.plot( testwavs, fit, 'r-' )\n",
    "#plt.show()"
   ]
  },
  {
   "cell_type": "code",
   "metadata": {
    "scrolled": true
   },
   "outputs": [],
   "source": []
  },
  {
   "cell_type": "code",
   "metadata": {
    "collapsed": true
   },
   "outputs": [],
   "source": []
  }
 ],
 "metadata": {
  "git": {
   "suppress_outputs": true
  },
  "kernelspec": {
   "display_name": "Python 2",
   "language": "python",
   "name": "python2"
  },
  "language_info": {
   "codemirror_mode": {
    "name": "ipython",
    "version": 2
   },
   "file_extension": ".py",
   "mimetype": "text/x-python",
   "name": "python",
   "nbconvert_exporter": "python",
   "pygments_lexer": "ipython2",
   "version": "2.7.13"
  }
 },
 "nbformat": 4,
 "nbformat_minor": 1
}