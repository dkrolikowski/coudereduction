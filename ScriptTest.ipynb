{
 "cells": [
  {
   "cell_type": "code",
   "metadata": {},
   "outputs": [],
   "source": [
    "import matplotlib.pyplot as plt\n",
    "import DMK_go_coude as Fns\n",
    "import numpy as np\n",
    "import os, readcol\n",
    "import scipy.optimize as optim\n",
    "import scipy.interpolate as interp\n",
    "import pickle\n",
    "\n",
    "from astropy.io import fits \n",
    "from mpfit import mpfit\n",
    "from scipy import signal"
   ]
  },
  {
   "cell_type": "code",
   "metadata": {
    "collapsed": true
   },
   "outputs": [],
   "source": [
    "dir = os.getenv(\"HOME\") + '/Research/YMG/coude_data/20140321/'\n",
    "rdir = dir + 'reduction/'\n",
    "codedir = os.getenv(\"HOME\") + '/codes/coudereduction/'\n",
    "# codedir = os.getenv(\"HOME\") + '/Research/Codes/coudereduction/'"
   ]
  },
  {
   "cell_type": "code",
   "metadata": {
    "collapsed": true
   },
   "outputs": [],
   "source": [
    "os.chdir(dir)"
   ]
  },
  {
   "cell_type": "code",
   "metadata": {},
   "outputs": [],
   "source": [
    "# DarkCurVal = 0.0\n",
    "\n",
    "# InfoFile = 'headstrip.csv'\n",
    "# FileInfo = readcol.readcol( InfoFile, fsep = ',', asRecArray = True )\n",
    "# DarkCube = FileInfo.ExpTime * DarkCurVal\n",
    "\n",
    "# BiasInds = np.where( FileInfo.Type == 'zero' )[0]\n",
    "# FlatInds = np.where( FileInfo.Type == 'flat' )[0]\n",
    "# ArcInds  = np.where( (FileInfo.Type == 'comp') & ( (FileInfo.Object == 'Thar') | (FileInfo.Object == 'THAR') | (FileInfo.Object == 'A') ) )[0]\n",
    "# ObjInds  = np.where( (FileInfo.Type == 'object') & (FileInfo.Object != 'SolPort') & (FileInfo.Object != 'solar port') & (FileInfo.Object != 'solar_ort') )[0]\n",
    "\n",
    "# CalsDone = True\n",
    "# SuperBias, FlatField = Fns.Basic_Cals( FileInfo.File[BiasInds], FileInfo.File[FlatInds], CalsDone, rdir, plots = False )\n",
    "\n",
    "# ShowBPM = False\n",
    "# BPM = Fns.Make_BPM( SuperBias, FlatField, 99.9, ShowBPM )\n",
    "\n",
    "# RdNoise  = FileInfo.rdn[ArcInds] / FileInfo.gain[ArcInds]\n",
    "# DarkCur  = DarkCube[ArcInds] / FileInfo.gain[ArcInds]\n",
    "# ArcCube, ArcSNR = Fns.Make_Cube( FileInfo.File[ArcInds], RdNoise, DarkCur, Bias = SuperBias )\n",
    "\n",
    "# RdNoise  = FileInfo.rdn[ObjInds] / FileInfo.gain[ObjInds]\n",
    "# DarkCur  = DarkCube[ObjInds] / FileInfo.gain[ObjInds]\n",
    "# ObjCube, ObjSNR = Fns.Make_Cube( FileInfo.File[ObjInds], RdNoise, DarkCur, Bias = SuperBias, Flat = FlatField, BPM = BPM )\n",
    "\n",
    "# OrderStart = -32\n",
    "# TraceDone = True\n",
    "# MedCut = 90.0\n",
    "# MedTrace, FitTrace = Fns.Get_Trace( FlatField, ObjCube, OrderStart, MedCut, rdir, TraceDone, plots = False )\n",
    "\n",
    "# wspec,sig_wspec = Fns.extractor( ArcCube,ArcSNR,FitTrace,quick=True,arc=True,nosub=True )"
   ]
  },
  {
   "cell_type": "code",
   "metadata": {
    "collapsed": true,
    "scrolled": true
   },
   "outputs": [],
   "source": [
    "spec       = pickle.load(open(rdir+'extracted_spec_oldway.pkl','rb'))\n",
    "sig_spec   = pickle.load(open(rdir+'extracted_sigspec_oldway.pkl','rb'))\n",
    "wspec      = pickle.load(open(rdir+'extracted_wspec_oldway.pkl','rb'))\n",
    "sig_wspec  = pickle.load(open(rdir+'extracted_sigwspec_oldway.pkl','rb'))\n",
    "\n",
    "wspec      = wspec[:,::-1,:]\n",
    "sig_wspec  = sig_wspec[:,::-1,:]\n",
    "spec       = spec[:,::-1,:]\n",
    "sig_spec   = sig_spec[:,::-1,:]"
   ]
  },
  {
   "cell_type": "code",
   "metadata": {
    "scrolled": false
   },
   "outputs": [],
   "source": [
    "roughsol = pickle.load( open( codedir + 'prelim_wsol.pkl', 'rb' ) )\n",
    "sols, params = Fns.Get_WavSol( wspec, roughsol, rdir, codedir, Orders = [8] )"
   ]
  },
  {
   "cell_type": "code",
   "metadata": {
    "collapsed": true
   },
   "outputs": [],
   "source": []
  },
  {
   "cell_type": "code",
   "metadata": {
    "collapsed": true
   },
   "outputs": [],
   "source": [
    "class Click_WavSol():\n",
    "    '''\n",
    "    A class for handling listening for user clicks on matplotlib plots and passing the \n",
    "    coordinates for use in the wavelength calibration.\n",
    "    '''\n",
    "    def __init__(self, obswav, obsarc, calwav, calarc, lines ):\n",
    "        self.obswav   = obswav\n",
    "        self.obsarc   = obsarc\n",
    "        self.calwav   = calwav\n",
    "        self.calarc   = calarc\n",
    "        self.lines    = lines\n",
    "        self.obsclick = np.array([])\n",
    "        self.calclick = np.array([])\n",
    "        \n",
    "    def getcoord(self):\n",
    "\n",
    "        plt.clf()\n",
    "        plt.plot( self.calwav, self.calarc, 'r-' )\n",
    "        plt.plot( self.obswav, self.obsarc, 'k-' )\n",
    "        for line in self.lines:\n",
    "            plt.axvline( x = line, color = 'b', ls = ':' )\n",
    "        plt.xlim( np.min( self.obswav ) - 5.0, np.max( self.obswav ) + 5.0 )\n",
    "        \n",
    "        fig = plt.gcf()\n",
    "        cid = fig.canvas.mpl_connect( 'key_press_event', self.__onclick__ )\n",
    "        plt.show()\n",
    "        \n",
    "        return self.obsclick, self.calclick\n",
    "\n",
    "    def __onclick__(self, click):\n",
    "        print click.xdata\n",
    "        if click.key == 'a':\n",
    "            self.obsclick = np.append( self.obsclick, click.xdata )\n",
    "            return self.obsclick\n",
    "        elif click.key == 'b':\n",
    "            self.calclick = np.append( self.calclick, click.xdata )\n",
    "            return self.calclick\n",
    "        else:\n",
    "            print 'Please press a for an observed line and b for a calibrated line.\\n'\n",
    "            print 'No other key will do anything for ya.'"
   ]
  }
 ],
 "metadata": {
  "git": {
   "suppress_outputs": true
  },
  "kernelspec": {
   "display_name": "Python 2",
   "language": "python",
   "name": "python2"
  },
  "language_info": {
   "codemirror_mode": {
    "name": "ipython",
    "version": 2
   },
   "file_extension": ".py",
   "mimetype": "text/x-python",
   "name": "python",
   "nbconvert_exporter": "python",
   "pygments_lexer": "ipython2",
   "version": "2.7.13"
  }
 },
 "nbformat": 4,
 "nbformat_minor": 1
}