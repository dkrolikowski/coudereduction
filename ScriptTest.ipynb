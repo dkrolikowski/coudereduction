{
 "cells": [
  {
   "cell_type": "code",
   "metadata": {
    "collapsed": true
   },
   "outputs": [],
   "source": [
    "import matplotlib.pyplot as plt\n",
    "import DMK_go_coude as Fns\n",
    "import numpy as np\n",
    "import os, readcol\n",
    "import scipy.optimize as optim\n",
    "import scipy.interpolate as interp\n",
    "import pickle\n",
    "\n",
    "from astropy.io import fits \n",
    "from mpfit import mpfit\n",
    "from scipy import signal\n",
    "\n",
    "%matplotlib inline"
   ]
  },
  {
   "cell_type": "code",
   "metadata": {},
   "outputs": [],
   "source": [
    "dir = os.getenv(\"HOME\") + '/Research/YMG/coude_data/20140321/'\n",
    "rdir = dir + 'reduction/'\n",
    "codedir = os.getenv(\"HOME\") + '/codes/coudereduction/'\n",
    "#codedir = os.getenv(\"HOME\") + '/Research/Codes/coudereduction/'"
   ]
  },
  {
   "cell_type": "code",
   "metadata": {
    "collapsed": true
   },
   "outputs": [],
   "source": [
    "os.chdir(dir)"
   ]
  },
  {
   "cell_type": "code",
   "metadata": {},
   "outputs": [],
   "source": [
    "DarkCurVal = 0.0\n",
    "\n",
    "InfoFile = 'headstrip.csv'\n",
    "FileInfo = readcol.readcol( InfoFile, fsep = ',', asRecArray = True )\n",
    "DarkCube = FileInfo.ExpTime * DarkCurVal"
   ]
  },
  {
   "cell_type": "code",
   "metadata": {
    "collapsed": true
   },
   "outputs": [],
   "source": [
    "BiasInds = np.where( FileInfo.Type == 'zero' )[0]\n",
    "FlatInds = np.where( FileInfo.Type == 'flat' )[0]\n",
    "ArcInds  = np.where( (FileInfo.Type == 'comp') & ( (FileInfo.Object == 'Thar') | (FileInfo.Object == 'THAR') | (FileInfo.Object == 'A') ) )[0]\n",
    "ObjInds  = np.where( (FileInfo.Type == 'object') & (FileInfo.Object != 'SolPort') & (FileInfo.Object != 'solar port') & (FileInfo.Object != 'solar_ort') )[0]"
   ]
  },
  {
   "cell_type": "code",
   "metadata": {},
   "outputs": [],
   "source": [
    "CalsDone = True\n",
    "SuperBias, FlatField = Fns.Basic_Cals( FileInfo.File[BiasInds], FileInfo.File[FlatInds], CalsDone, rdir, plots = False )"
   ]
  },
  {
   "cell_type": "code",
   "metadata": {
    "collapsed": true
   },
   "outputs": [],
   "source": [
    "ShowBPM = False\n",
    "BPM = Fns.Make_BPM( SuperBias, FlatField, 99.9, ShowBPM )"
   ]
  },
  {
   "cell_type": "code",
   "metadata": {},
   "outputs": [],
   "source": [
    "RdNoise  = FileInfo.rdn[ArcInds] / FileInfo.gain[ArcInds]\n",
    "DarkCur  = DarkCube[ArcInds] / FileInfo.gain[ArcInds]\n",
    "ArcCube, ArcSNR = Fns.Make_Cube( FileInfo.File[ArcInds], RdNoise, DarkCur, Bias = SuperBias )\n",
    "\n",
    "RdNoise  = FileInfo.rdn[ObjInds] / FileInfo.gain[ObjInds]\n",
    "DarkCur  = DarkCube[ObjInds] / FileInfo.gain[ObjInds]\n",
    "ObjCube, ObjSNR = Fns.Make_Cube( FileInfo.File[ObjInds], RdNoise, DarkCur, Bias = SuperBias, Flat = FlatField, BPM = BPM )"
   ]
  },
  {
   "cell_type": "code",
   "metadata": {
    "scrolled": true
   },
   "outputs": [],
   "source": [
    "OrderStart = -32\n",
    "TraceDone = True\n",
    "MedCut = 95.0\n",
    "MedTrace, FitTrace = Fns.Get_Trace( FlatField, ObjCube, OrderStart, MedCut, rdir, TraceDone, plots = False )"
   ]
  },
  {
   "cell_type": "code",
   "metadata": {
    "collapsed": true
   },
   "outputs": [],
   "source": [
    "#fullspec, fullsig_spec = Fns.extractor( ObjCube, ObjSNR, FitTrace, quick = False, nosub = False, arc = False )"
   ]
  },
  {
   "cell_type": "code",
   "metadata": {
    "collapsed": true
   },
   "outputs": [],
   "source": [
    "spec     = pickle.load(open(rdir+'extracted_spec_oldway.pkl','rb'))\n",
    "sig_spec = pickle.load(open(rdir+'extracted_sigspec_oldway.pkl','rb'))\n",
    "wspec     = pickle.load(open(rdir+'extracted_wspec_oldway.pkl','rb'))\n",
    "sig_wspec = pickle.load(open(rdir+'extracted_sigwspec_oldway.pkl','rb'))"
   ]
  },
  {
   "cell_type": "code",
   "metadata": {
    "collapsed": true
   },
   "outputs": [],
   "source": [
    "wspec      = wspec[:,::-1,:]\n",
    "sig_wspec  = sig_wspec[:,::-1,:]\n",
    "spec       = spec[:,::-1,:]\n",
    "sig_spec   = sig_spec[:,::-1,:]"
   ]
  },
  {
   "cell_type": "code",
   "metadata": {
    "collapsed": true
   },
   "outputs": [],
   "source": [
    "def Gaussian( x, A, mean, sigma, const ):\n",
    "    gauss = A * np.exp( - ( x - mean ) ** 2.0 / ( 2.0 * sigma ** 2 ) ) + const\n",
    "    return gauss\n",
    "    \n",
    "def TwoGaussian( x, A1, mean1, sigma1, const, A2, mean2, sigma2 ):\n",
    "    return Gaussian( x, A1, mean1, sigma1, const ) + Gaussian( x, A2, mean2, sigma2, const )"
   ]
  },
  {
   "cell_type": "code",
   "metadata": {},
   "outputs": [],
   "source": [
    "THAR      = fits.open( codedir + 'thar_photron.fits' )[0]\n",
    "THARhead  = THAR.header\n",
    "THARspec  = THAR.data\n",
    "THARwav   = np.arange( len( THARspec ) ) * THARhead['CDELT1'] + THARhead['CRVAL1']\n",
    "THARlines = readcol.readcol( codedir + 'ThAr_list.txt', asRecArray = True )\n",
    "\n",
    "logTHARspec = np.log10(THARspec)\n",
    "\n",
    "#qwe            = np.where((THARwav >= np.min(roughwav-10)) & (THARwav <= np.max(roughwav+10)))[0] \n",
    "#ls             = THARspec[qwe] - np.min(THARspec[qwe])\n",
    "#region         = np.where(ls < np.median(ls))\n",
    "#ls[region]     = np.median(ls)"
   ]
  },
  {
   "cell_type": "code",
   "metadata": {
    "collapsed": true
   },
   "outputs": [],
   "source": [
    "roughdisp  = 7000.0 / 60000.0 / 2.0\n",
    "wavestart  = 6957.0\n",
    "startorder = wspec.shape[1] - 15 - 1\n",
    "arcspec    = wspec[0,startorder,:]\n",
    "roughwav   = wavestart + roughdisp * np.arange( len( arcspec ) )\n",
    "\n",
    "arcspec           = arcspec - np.min( arcspec )\n",
    "belowmed          = np.where( arcspec < np.median( arcspec ) )\n",
    "arcspec[belowmed] = np.median( arcspec )\n",
    "logarcspec        = np.log10( arcspec )\n",
    "logarcspec        = logarcspec - np.min( logarcspec )\n",
    "\n",
    "testspec    = wspec[0,startorder,:]\n",
    "logtestspec = np.log10( testspec )"
   ]
  },
  {
   "cell_type": "code",
   "metadata": {},
   "outputs": [],
   "source": [
    "peaks = signal.find_peaks_cwt( arcspec, np.arange( 1, 2 ), min_snr = 1000, noise_perc = 20 )\n",
    "print peaks\n",
    "print roughwav[1928]\n",
    "plt.plot( logarcspec, 'k-' )\n",
    "for peak in peaks:\n",
    "    plt.axvline( x = peak, color = 'r', ls = ':' )\n",
    "plt.xlim( 1900, 2050 )\n",
    "plt.show()"
   ]
  },
  {
   "cell_type": "code",
   "metadata": {},
   "outputs": [],
   "source": [
    "def Find_Peaks_Wavelet( wav, spec, peaksnr = 5, pwidth = 10, minsep = 1 ):\n",
    "    \n",
    "    # Find peaks using the cwt routine from scipy.signal\n",
    "    peaks = signal.find_peaks_cwt( spec, np.arange( 1, 2 ), min_snr = peaksnr, noise_perc = 20 )\n",
    "    \n",
    "    # Offset from start/end of spectrum by some number of pixels\n",
    "    peaks = peaks[ (peaks > pwidth) & (peaks < len(spec) - pwidth) ]\n",
    "    \n",
    "    pixcent = np.array([])\n",
    "    wavcent = np.array([])\n",
    "        \n",
    "    for peak in peaks:\n",
    "        \n",
    "        xi   = wav[peak - pwidth:peak + pwidth]\n",
    "        yi   = spec[peak - pwidth:peak + pwidth]\n",
    "        inds = np.arange( len(xi), dtype = float )\n",
    "        \n",
    "        pguess   = [ yi[9], np.median( inds ), 0.9, np.median( spec ) ]\n",
    "        lowerbds = [ 0.1*pguess[0], pguess[1] - 2.0, 0.3, 0.0  ]\n",
    "        upperbds = [ np.inf, pguess[1] + 2.0, 1.5, np.inf ]\n",
    "        \n",
    "        try:\n",
    "            params, pcov = optim.curve_fit( Gaussian, inds, yi, p0 = pguess, bounds = (lowerbds,upperbds) )\n",
    "            \n",
    "            pixval  = peak - pwidth + params[1]\n",
    "            pixcent = np.append( pixcent, pixval )\n",
    "            \n",
    "            ceiling = np.ceil( pixval ).astype(int)\n",
    "            floor   = np.floor( pixval ).astype(int)\n",
    "            slope   = ( wav[ceiling] - wav[floor] ) / ( ceiling - floor )\n",
    "            wavval  = wav[floor] + slope * ( pixval - floor )\n",
    "            wavcent = np.append( wavcent, wavval )\n",
    "            \n",
    "        except RuntimeError:\n",
    "            pixval  = 'nan'\n",
    "            \n",
    "    vals = spec[pixcent.astype(int)]\n",
    "    oks  = np.ones( len(pixcent), int )\n",
    "    \n",
    "    for i in range( len(wavcent) ):\n",
    "        dist  = np.absolute( wavcent - wavcent[i] )\n",
    "        close = np.where( dist <= minsep )[0]\n",
    "        small = np.where( vals[close] < np.max( vals[close] ) )[0]\n",
    "        if len(small) != 0: oks[close[small]] = -1\n",
    "    keep    = np.where( oks == 1 )\n",
    "    pixcent = pixcent[keep]\n",
    "    wavcent = wavcent[keep]\n",
    "            \n",
    "    return pixcent, wavcent\n",
    "\n",
    "def Get_WavSol( wav, spec, snrarr, pwidth = 10, minsep = 1 ):\n",
    "    \n",
    "    wavsols    = np.zeros( ( len(snrarr) + 1, len(spec) ) )\n",
    "    wavsols[0] = wav\n",
    "    \n",
    "    for i in range( len(snrarr) ):\n",
    "        \n",
    "        pixcent, wavcent = Find_Peaks_Wavelet( wavsols[i], spec, peaksnr = snrarr[i] )\n",
    "        \n",
    "        THARthisord = [ line for line in THARlines.wav if line > wavsols[i,0] and line < wavsols[i,-1] ]\n",
    "        \n",
    "        matchedpix   = np.array([])\n",
    "        matchedwav   = np.array([])\n",
    "        matchedlines = np.array([])\n",
    "        \n",
    "        for j in range( len(wavcent) ):\n",
    "            dists    = np.absolute( THARthisord - wavcent[j] )\n",
    "            mindist  = np.min( dists )\n",
    "            mindisti = np.argmin( dists )\n",
    "            \n",
    "            if mindist <= 1.5:\n",
    "                matchedpix   = np.append( matchedpix, pixcent[j] )\n",
    "                matchedwav   = np.append( matchedwav, wavcent[j] )\n",
    "                matchedlines = np.append( matchedlines, THARthisord[mindisti] )\n",
    "\n",
    "        wavspl = interp.InterpolatedUnivariateSpline( matchedpix, matchedlines, k = 1 )\n",
    "        wavsol = wavspl( np.arange( len(spec) ) )\n",
    "        \n",
    "        wavsols[i+1] = wavsol\n",
    "        \n",
    "    return wavsols, matchedpix"
   ]
  },
  {
   "cell_type": "code",
   "metadata": {},
   "outputs": [],
   "source": [
    "wavsols, matchedpix = Get_WavSol( roughwav, arcspec, [5] )\n",
    "\n",
    "plt.plot( wavsols[-1], logarcspec, 'k-' )\n",
    "plt.plot( wavsolspl, logarcspec, 'm--' )\n",
    "plt.plot( THARwav, logTHARspec, 'r-' )\n",
    "for peak in matchedpix:\n",
    "    plt.axvline( x = wavsols[-1][peak.round().astype(int)], color = 'b' )\n",
    "plt.xlim( 7050, 7080 )\n",
    "plt.show()"
   ]
  },
  {
   "cell_type": "code",
   "metadata": {},
   "outputs": [],
   "source": [
    "thisord = np.where( ( THARwav >= roughwav[0] - 5 ) & ( THARwav <= roughwav[-1] + 5 ) )\n",
    "thisTHARwav  = THARwav[thisord]\n",
    "thisTHARspec = THARspec[thisord]\n",
    "\n",
    "peaks = signal.find_peaks_cwt( thisTHARspec, np.arange( 1, 2 ), min_snr = 5, noise_perc = 20 )\n",
    "print len(peaks)\n",
    "plt.clf()\n",
    "plt.plot( thisTHARwav, np.log10(thisTHARspec), 'k-' )\n",
    "for peak in peaks:\n",
    "    plt.axvline( x = thisTHARwav[peak], color = 'r', ls = ':' )\n",
    "#plt.xlim( 6964, 6967 )\n",
    "plt.show()"
   ]
  },
  {
   "cell_type": "code",
   "metadata": {
    "collapsed": true
   },
   "outputs": [],
   "source": []
  }
 ],
 "metadata": {
  "git": {
   "suppress_outputs": true
  },
  "kernelspec": {
   "display_name": "Python 2",
   "language": "python",
   "name": "python2"
  },
  "language_info": {
   "codemirror_mode": {
    "name": "ipython",
    "version": 2
   },
   "file_extension": ".py",
   "mimetype": "text/x-python",
   "name": "python",
   "nbconvert_exporter": "python",
   "pygments_lexer": "ipython2",
   "version": "2.7.13"
  }
 },
 "nbformat": 4,
 "nbformat_minor": 1
}