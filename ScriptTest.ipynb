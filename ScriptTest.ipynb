{
 "cells": [
  {
   "cell_type": "code",
   "execution_count": 1,
   "metadata": {
    "collapsed": true
   },
   "outputs": [],
   "source": [
    "import matplotlib\n",
    "\n",
    "import matplotlib.pyplot as plt\n",
    "import DMK_go_coude as Fns\n",
    "import numpy as np\n",
    "import os, readcol\n",
    "import scipy.optimize as optim\n",
    "import scipy.interpolate as interp\n",
    "import pickle\n",
    "\n",
    "from astropy.io import fits \n",
    "from mpfit import mpfit\n",
    "from scipy import signal"
   ]
  },
  {
   "cell_type": "code",
   "execution_count": 2,
   "metadata": {
    "collapsed": true
   },
   "outputs": [],
   "source": [
    "dir = os.getenv(\"HOME\") + '/Research/YMG/coude_data/20140321/'\n",
    "rdir = dir + 'reduction/'\n",
    "# codedir = os.getenv(\"HOME\") + '/codes/coudereduction/'\n",
    "codedir = os.getenv(\"HOME\") + '/Research/Codes/coudereduction/'"
   ]
  },
  {
   "cell_type": "code",
   "execution_count": 3,
   "metadata": {
    "collapsed": true
   },
   "outputs": [],
   "source": [
    "os.chdir(dir)"
   ]
  },
  {
   "cell_type": "code",
   "execution_count": 4,
   "metadata": {
    "scrolled": true
   },
   "outputs": [
    {
     "name": "stdout",
     "output_type": "stream",
     "text": [
      "WARNING: reading as string array because float array failed\n",
      "Reading in premade Bias and Flat files\n"
     ]
    },
    {
     "name": "stderr",
     "output_type": "stream",
     "text": [
      "DMK_go_coude.py:131: FutureWarning: comparison to `None` will result in an elementwise object comparison in the future.\n",
      "DMK_go_coude.py:132: FutureWarning: comparison to `None` will result in an elementwise object comparison in the future.\n",
      "DMK_go_coude.py:132: RuntimeWarning: divide by zero encountered in divide\n",
      "DMK_go_coude.py:132: RuntimeWarning: invalid value encountered in divide\n",
      "/anaconda/lib/python2.7/site-packages/numpy/lib/function_base.py:3858: RuntimeWarning: Invalid value encountered in median\n",
      "  r = func(a, **kwargs)\n"
     ]
    },
    {
     "name": "stdout",
     "output_type": "stream",
     "text": [
      "Reading in premade Trace and plotting on Flat:\n"
     ]
    }
   ],
   "source": [
    "DarkCurVal = 0.0\n",
    "\n",
    "InfoFile = 'headstrip.csv'\n",
    "FileInfo = readcol.readcol( InfoFile, fsep = ',', asRecArray = True )\n",
    "DarkCube = FileInfo.ExpTime * DarkCurVal\n",
    "\n",
    "BiasInds = np.where( FileInfo.Type == 'zero' )[0]\n",
    "FlatInds = np.where( FileInfo.Type == 'flat' )[0]\n",
    "ArcInds  = np.where( (FileInfo.Type == 'comp') & ( (FileInfo.Object == 'Thar') | (FileInfo.Object == 'THAR') | (FileInfo.Object == 'A') ) )[0]\n",
    "ObjInds  = np.where( (FileInfo.Type == 'object') & (FileInfo.Object != 'SolPort') & (FileInfo.Object != 'solar port') & (FileInfo.Object != 'solar_ort') )[0]\n",
    "\n",
    "CalsDone = True\n",
    "SuperBias, FlatField = Fns.Basic_Cals( FileInfo.File[BiasInds], FileInfo.File[FlatInds], CalsDone, rdir, plots = False )\n",
    "\n",
    "ShowBPM = False\n",
    "BPM = Fns.Make_BPM( SuperBias, FlatField, 99.9, ShowBPM )\n",
    "\n",
    "RdNoise  = FileInfo.rdn[ArcInds] / FileInfo.gain[ArcInds]\n",
    "DarkCur  = DarkCube[ArcInds] / FileInfo.gain[ArcInds]\n",
    "ArcCube, ArcSNR = Fns.Make_Cube( FileInfo.File[ArcInds], RdNoise, DarkCur, Bias = SuperBias )\n",
    "\n",
    "RdNoise  = FileInfo.rdn[ObjInds] / FileInfo.gain[ObjInds]\n",
    "DarkCur  = DarkCube[ObjInds] / FileInfo.gain[ObjInds]\n",
    "ObjCube, ObjSNR = Fns.Make_Cube( FileInfo.File[ObjInds], RdNoise, DarkCur, Bias = SuperBias, Flat = FlatField, BPM = BPM )\n",
    "\n",
    "OrderStart = -32\n",
    "TraceDone = True\n",
    "MedCut = 95.0\n",
    "MedTrace, FitTrace = Fns.Get_Trace( FlatField, ObjCube, OrderStart, MedCut, rdir, TraceDone, plots = False )\n",
    "\n",
    "spec       = pickle.load(open(rdir+'extracted_spec_oldway.pkl','rb'))\n",
    "sig_spec   = pickle.load(open(rdir+'extracted_sigspec_oldway.pkl','rb'))\n",
    "wspec      = pickle.load(open(rdir+'extracted_wspec_oldway.pkl','rb'))\n",
    "sig_wspec  = pickle.load(open(rdir+'extracted_sigwspec_oldway.pkl','rb'))\n",
    "\n",
    "wspec      = wspec[:,::-1,:]\n",
    "sig_wspec  = sig_wspec[:,::-1,:]\n",
    "spec       = spec[:,::-1,:]\n",
    "sig_spec   = sig_spec[:,::-1,:]"
   ]
  },
  {
   "cell_type": "code",
   "execution_count": 5,
   "metadata": {
    "collapsed": true
   },
   "outputs": [],
   "source": [
    "#fullspec, fullsig_spec = Fns.extractor( ObjCube, ObjSNR, FitTrace, quick = False, nosub = False, arc = False )"
   ]
  },
  {
   "cell_type": "code",
   "execution_count": 6,
   "metadata": {
    "collapsed": true
   },
   "outputs": [],
   "source": [
    "def Gaussian( x, A, mean, sigma, const ):\n",
    "    gauss = A * np.exp( - ( x - mean ) ** 2.0 / ( 2.0 * sigma ** 2 ) ) + const\n",
    "    return gauss"
   ]
  },
  {
   "cell_type": "code",
   "execution_count": 7,
   "metadata": {
    "collapsed": true
   },
   "outputs": [],
   "source": [
    "# def Get_WavSol( Cube, RoughSol, snr, plots = True ):\n",
    "    \n",
    "#     fullwavsol = np.zeros( ( Cube.shape[0], Cube.shape[1], Cube.shape[2] ) )\n",
    "#     fullparams = np.zeros( ( Cube.shape[0], Cube.shape[1], 5 ) )\n",
    "    \n",
    "#     for frame in range( Cube.shape[0] ):\n",
    "#         for i in range( Cube.shape[1] ):\n",
    "            \n",
    "def Get_WavSol_Order( Cube, RoughSol, OrderToFit, snr, plots = True ):\n",
    "    \n",
    "    orderdif = Cube.shape[1] - RoughSol.shape[0]\n",
    "    \n",
    "    arcspec   = Cube[0, OrderToFit, :]\n",
    "    startwsol = RoughSol[OrderToFit - orderdif]\n",
    "    \n",
    "#     arcspec = Cube[0,OrderToFit,:]\n",
    "#     startwsol = RoughSol\n",
    "    \n",
    "    arcspec           = arcspec - np.min( arcspec )\n",
    "    belowmed          = np.where( arcspec < np.median( arcspec ) )\n",
    "    arcspec[belowmed] = np.median( arcspec )\n",
    "    logarcspec        = np.log10( arcspec )\n",
    "    logarcspec        = logarcspec - np.min( logarcspec )\n",
    "        \n",
    "    THAR        = fits.open( codedir + 'thar_photron.fits' )[0]\n",
    "    THARhead    = THAR.header\n",
    "    THARspec    = THAR.data\n",
    "    THARwav     = np.arange( len( THARspec ) ) * THARhead['CDELT1'] + THARhead['CRVAL1']\n",
    "    THARlines   = readcol.readcol( codedir + 'ThAr_list.txt', asRecArray = True )\n",
    "    logTHARspec = np.log10(THARspec)\n",
    "\n",
    "    wavsols, peakskeep, peaksrej, params = Fit_WavSol( startwsol, arcspec, THARlines.wav, snr, minsep = 1.5, plots = plots )\n",
    "\n",
    "#     pickle.dump( peakskeep, open( rdir + 'peaks_keep_ord' + str(OrderToFit) + '.pkl', 'wb' ) )\n",
    "#     pickle.dump( peaksrej, open( rdir + 'peaks_rej_ord' + str(OrderToFit) + '.pkl', 'wb' ) )\n",
    "    \n",
    "    if plots == True:\n",
    "        plt.clf()\n",
    "        plt.plot( wavsols[-1], logarcspec, 'k-' )\n",
    "        plt.plot( THARwav, logTHARspec, 'r-' )\n",
    "        plt.xlim( wavsols[-1,0], wavsols[-1,-1] )\n",
    "        for peak in peakskeep['wav']:\n",
    "            plt.axvline( x = peak, color = 'b', ls = ':' )\n",
    "        plt.show()\n",
    "\n",
    "        Plot_Wavsol_Windows( wavsols, peakskeep['wav'], logarcspec, THARwav, logTHARspec )\n",
    "    \n",
    "    return wavsols, params\n",
    "\n",
    "def Plot_Wavsol_Windows( wavsols, wavkeep, spec, tharwav, tharspec ):\n",
    "    \n",
    "    plotwav  = wavsols[-1]\n",
    "    startwav = np.min( plotwav )\n",
    "    \n",
    "    while startwav <= np.max( plotwav ):\n",
    "        plt.clf()\n",
    "        plt.plot( plotwav, spec, 'k-' )\n",
    "        plt.plot( tharwav, tharspec, 'r-' )\n",
    "        plt.xlim( startwav, startwav + 10 )\n",
    "        for peak in wavkeep:\n",
    "            plt.axvline( x = peak, color = 'b', ls = ':' )\n",
    "        plt.show()\n",
    "        \n",
    "        startwav += 10\n",
    "        \n",
    "    return None\n",
    "\n",
    "def Plot_WavSol_Resids( wavresids, velresids, wavabsdev, velabsdev, lines, tokeep = None, toreject = None ):\n",
    "    \n",
    "    plt.clf()\n",
    "    fig, (wavax, velax) = plt.subplots( 2, 1, sharex = 'all' )\n",
    "    wavax.axhline( y = 0.0, color = 'k', ls = ':' )\n",
    "    velax.axhline( y = 0.0, color = 'k', ls = ':' )\n",
    "    if toreject == None:\n",
    "        wavax.plot( lines, wavresids, 'ko', mfc = 'none' )\n",
    "        velax.plot( lines, velresids, 'ko', mfc = 'none' )\n",
    "    else:\n",
    "        wavax.plot( lines[tokeep], wavresids[tokeep], 'ko', mfc = 'none' )\n",
    "        wavax.plot( lines[toreject], wavresids[toreject], 'kx' )\n",
    "        velax.plot( lines[tokeep], velresids[tokeep], 'ko', mfc = 'none' )\n",
    "        velax.plot( lines[toreject], velresids[toreject], 'kx' )\n",
    "    for x in [ -3, 3 ]:\n",
    "        wavax.axhline( y = x * np.median( wavabsdev ), color = 'r', ls = '--' )\n",
    "        velax.axhline( y = x * np.median( velabsdev ), color = 'r', ls = '--' )\n",
    "    wavax.set_ylabel( 'Resids ($\\AA$)' )\n",
    "    velax.set_ylabel( 'Resids (km/s)' )\n",
    "    fig.subplots_adjust( hspace = 0 )\n",
    "    plt.show()\n",
    "    \n",
    "    return None"
   ]
  },
  {
   "cell_type": "code",
   "execution_count": 8,
   "metadata": {
    "collapsed": true
   },
   "outputs": [],
   "source": [
    "def Find_Peaks( wav, spec, peaksnr = 5, pwidth = 10, minsep = 1 ):\n",
    "    \n",
    "    # Find peaks using the cwt routine from scipy.signal\n",
    "    peaks = signal.find_peaks_cwt( spec, np.arange( 1, 2 ), min_snr = peaksnr, noise_perc = 20 )\n",
    "    \n",
    "    # Offset from start/end of spectrum by some number of pixels\n",
    "    peaks = peaks[ (peaks > pwidth) & (peaks < len(spec) - pwidth) ]\n",
    "    \n",
    "    pixcent = np.array([])\n",
    "    wavcent = np.array([])\n",
    "        \n",
    "    for peak in peaks:\n",
    "        \n",
    "        xi   = wav[peak - pwidth:peak + pwidth]\n",
    "        yi   = spec[peak - pwidth:peak + pwidth]\n",
    "        inds = np.arange( len(xi), dtype = float )\n",
    "        \n",
    "        pguess   = [ yi[9], np.median( inds ), 0.9, np.median( spec ) ]\n",
    "        lowerbds = [ 0.1*pguess[0], pguess[1] - 2.0, 0.3, 0.0  ]\n",
    "        upperbds = [ np.inf, pguess[1] + 2.0, 1.5, np.inf ]\n",
    "        \n",
    "        try:\n",
    "            params, pcov = optim.curve_fit( Gaussian, inds, yi, p0 = pguess, bounds = (lowerbds,upperbds) )\n",
    "            \n",
    "            pixval  = peak - pwidth + params[1]\n",
    "            pixcent = np.append( pixcent, pixval )\n",
    "            \n",
    "            ceiling = np.ceil( pixval ).astype(int)\n",
    "            floor   = np.floor( pixval ).astype(int)\n",
    "            slope   = ( wav[ceiling] - wav[floor] ) / ( ceiling - floor )\n",
    "            wavval  = wav[floor] + slope * ( pixval - floor )\n",
    "            wavcent = np.append( wavcent, wavval )\n",
    "            \n",
    "        except RuntimeError:\n",
    "            pixval  = 'nan'\n",
    "            \n",
    "    vals = spec[pixcent.astype(int)]\n",
    "    oks  = np.ones( len(pixcent), int )\n",
    "    \n",
    "    for i in range( len(wavcent) ):\n",
    "        dist  = np.absolute( wavcent - wavcent[i] )\n",
    "        close = np.where( dist <= minsep )[0]\n",
    "        small = np.where( vals[close] < np.max( vals[close] ) )[0]\n",
    "        if len(small) != 0: oks[close[small]] = -1\n",
    "            \n",
    "    keep    = np.where( oks == 1 )\n",
    "    pixcent = pixcent[keep]\n",
    "    wavcent = wavcent[keep]\n",
    "            \n",
    "    return pixcent, wavcent\n",
    "\n",
    "def Fit_WavSol( wav, spec, linecatalog, snr = 50, pwidth = 10, minsep = 1, plots = True ):\n",
    "    \n",
    "    wavsols    = np.zeros( ( 2, len(spec) ) )\n",
    "    wavsols[0] = wav\n",
    "    \n",
    "    pixcent, wavcent = Find_Peaks( wavsols[0], spec, peaksnr = snr, minsep = minsep )\n",
    "    \n",
    "    THARthisord = [ line for line in linecatalog if line > wavsols[0,0] and line < wavsols[0,-1] ]\n",
    "    \n",
    "    keeps = { 'pix': np.array([]), 'wav': np.array([]), 'line': np.array([]) }\n",
    "    rejs  = { 'pix': np.array([]), 'wav': np.array([]), 'line': np.array([]) }\n",
    "    \n",
    "    for i in range( len(wavcent) ):\n",
    "        dists    = np.absolute( THARthisord - wavcent[i] )\n",
    "        mindist  = np.min( dists )\n",
    "        mindisti = np.argmin( dists )\n",
    "            \n",
    "        if mindist <= 1.5:\n",
    "            keeps['pix']  = np.append( keeps['pix'], pixcent[i] )\n",
    "            keeps['wav']  = np.append( keeps['wav'], wavcent[i] )\n",
    "            keeps['line'] = np.append( keeps['line'], THARthisord[mindisti] )\n",
    "            \n",
    "    dofit = True\n",
    "    \n",
    "    while dofit:\n",
    "        wavparams  = np.polyfit( keeps['pix'], keeps['line'], 4 )\n",
    "        ptsfromfit = np.polyval( wavparams, keeps['pix'] )\n",
    "            \n",
    "        wavresids  = ptsfromfit - keeps['line']\n",
    "        wavabsdev  = np.absolute( wavresids )\n",
    "\n",
    "        velresids  = wavresids / keeps['line'] * 3e5\n",
    "        velabsdev  = np.absolute( velresids )\n",
    "            \n",
    "        abovekms   = len( np.where( velresids >= 1.0 )[0] )\n",
    "            \n",
    "        torej      = wavabsdev >= 3.0 * np.median( wavabsdev )\n",
    "        tokeep     = np.logical_not( torej )\n",
    "        numrej     = np.sum( torej )\n",
    "        \n",
    "        if abovekms > 0:\n",
    "            if numrej > 0:\n",
    "                if plots:\n",
    "                    Plot_WavSol_Resids( wavresids, velresids, wavabsdev, velabsdev, keeps['line'], tokeep = tokeep, toreject = torej )\n",
    "                \n",
    "                rejs['pix']  = keeps['pix'][torej]\n",
    "                rejs['wav']  = keeps['wav'][torej]\n",
    "                rejs['line'] = keeps['line'][torej]\n",
    "                \n",
    "                keeps['pix']  = keeps['pix'][tokeep]\n",
    "                keeps['wav']  = keeps['wav'][tokeep]\n",
    "                keeps['line'] = keeps['line'][tokeep]\n",
    "                \n",
    "            else:\n",
    "                print 'There is something seriously wrong.\\n'\n",
    "                print 'There are points > 1 km/s, but none are found to be rejected. FIX'\n",
    "                break\n",
    "\n",
    "        else:\n",
    "            if plots:\n",
    "                Plot_WavSol_Resids( wavresids, velresids, wavabsdev, velabsdev, keeps['line'] )\n",
    "                print 'No points are worse than 1 km/s, fit good.'\n",
    "            dofit = False\n",
    "            \n",
    "    wavsols[1] = np.polyval( wavparams, np.arange( len(spec) ) )\n",
    "\n",
    "    return wavsols, keeps, rejs, wavparams"
   ]
  },
  {
   "cell_type": "code",
   "execution_count": 9,
   "metadata": {},
   "outputs": [
    {
     "name": "stdout",
     "output_type": "stream",
     "text": [
      "41 30\n"
     ]
    }
   ],
   "source": [
    "#testord = wspec.shape[1] - 15 - 1\n",
    "testord = 41\n",
    "oldwsol = pickle.load( open( codedir + 'global_wsol_arizz.pkl', 'rb' ) )[0]\n",
    "oldord  = testord - ( wspec.shape[1] - oldwsol.shape[0] )\n",
    "\n",
    "print testord, oldord"
   ]
  },
  {
   "cell_type": "code",
   "execution_count": null,
   "metadata": {
    "collapsed": true
   },
   "outputs": [],
   "source": [
    "wavsols, params = Get_WavSol_Order( wspec, oldwsol, testord, 5 )"
   ]
  },
  {
   "cell_type": "code",
   "execution_count": null,
   "metadata": {
    "collapsed": true,
    "scrolled": true
   },
   "outputs": [],
   "source": [
    "print testord\n",
    "print np.min( wavsols[-1] )\n",
    "print np.max( wavsols[-1] )\n",
    "print params"
   ]
  },
  {
   "cell_type": "code",
   "execution_count": null,
   "metadata": {
    "collapsed": true
   },
   "outputs": [],
   "source": [
    "obj = 43\n",
    "plt.clf()\n",
    "plt.plot( wavsols[-1], spec[obj,testord,:], 'k-' )\n",
    "plt.xlim( 6700, 6720 )\n",
    "plt.ylim( 13000, 15000 )\n",
    "plt.show()"
   ]
  },
  {
   "cell_type": "code",
   "execution_count": null,
   "metadata": {
    "collapsed": true
   },
   "outputs": [],
   "source": [
    "class Click_WavSol():\n",
    "    '''\n",
    "    A class for handling listening for user clicks on matplotlib plots and passing the \n",
    "    coordinates for use in the wavelength calibration.\n",
    "    '''\n",
    "    def __init__(self, obswav, obsarc, calwav, calarc, extrax = None, extray = None):\n",
    "        self.obswav = obswav\n",
    "        self.obsarc = obsarc\n",
    "        self.calwav = calwav\n",
    "        self.calarc = calarc\n",
    "        self.extrax = extrax\n",
    "        self.extray = extray\n",
    "        self.clicks = []\n",
    "        \n",
    "    def getcoord(self):\n",
    "        \n",
    "#         startwav = np.min( self.obswav ) - 5.0\n",
    "        \n",
    "#         while startwav < np.max( self.obswav ) + 5.0:\n",
    "#             print startwav\n",
    "#             plt.clf()\n",
    "#             plt.plot( self.calwav, self.calarc, 'r-' )\n",
    "#             plt.plot( self.obswav, self.obsarc, 'k-' )\n",
    "#             plt.xlim( startwav, startwav + 10.0 )\n",
    "            \n",
    "#             fig = plt.gcf()\n",
    "#             cid = fig.canvas.mpl_connect( 'button_press_event', self.__onclick__ )\n",
    "#             plt.show()\n",
    "            \n",
    "#             raw_input( 'Continue?' )\n",
    "            \n",
    "#             startwav += 10.0\n",
    "            \n",
    "        plt.clf()\n",
    "        plt.plot( self.calwav, self.calarc, 'r-' )\n",
    "        plt.plot( self.obswav, self.obsarc, 'k-' )\n",
    "        plt.xlim( np.min( self.obswav ) - 5.0, np.max( self.obswav ) + 5.0 )\n",
    "        \n",
    "        fig    = plt.gcf()\n",
    "        cidobs = fig.canvas.mpl_connect( 'key_press_event', self.__obskey__ )\n",
    "        plt.show()\n",
    "        \n",
    "        return self.clicks\n",
    "\n",
    "    def __obskey__(self, click):\n",
    "        point = [click.xdata, click.ydata]\n",
    "        print click.key\n",
    "        print click.xdata, click.ydata\n",
    "        print click.x, click.y\n",
    "        return self.clicks.append(point)"
   ]
  },
  {
   "cell_type": "code",
   "execution_count": null,
   "metadata": {
    "collapsed": true
   },
   "outputs": [],
   "source": [
    "order = 10\n",
    "\n",
    "arcspec           = wspec[0, order, :]\n",
    "arcspec           = arcspec - np.min( arcspec )\n",
    "belowmed          = np.where( arcspec < np.median( arcspec ) )\n",
    "arcspec[belowmed] = np.median( arcspec )\n",
    "logarcspec        = np.log10( arcspec )\n",
    "logarcspec        = logarcspec - np.min( logarcspec )\n",
    "\n",
    "midwav   = 4192.0\n",
    "disp     = midwav / 60000.0 / 2.0\n",
    "roughwav = np.linspace( midwav - disp * 1024, midwav + disp * 1024, len(arcspec) )\n",
    "\n",
    "THAR        = fits.open( codedir + 'thar_photron.fits' )[0]\n",
    "THARhead    = THAR.header\n",
    "THARspec    = THAR.data\n",
    "THARwav     = np.arange( len( THARspec ) ) * THARhead['CDELT1'] + THARhead['CRVAL1']\n",
    "THARlines   = readcol.readcol( codedir + 'ThAr_list.txt', asRecArray = True )\n",
    "logTHARspec = np.log10(THARspec)\n",
    "\n",
    "lpoint = Click_WavSol( roughwav, logarcspec, THARwav, logTHARspec )\n",
    "lpoint.getcoord()"
   ]
  },
  {
   "cell_type": "code",
   "execution_count": null,
   "metadata": {
    "collapsed": true
   },
   "outputs": [],
   "source": [
    "wavsols, wavparams = Get_WavSol_Order( wspec, roughwav, order, 5 )"
   ]
  },
  {
   "cell_type": "code",
   "execution_count": null,
   "metadata": {
    "collapsed": true
   },
   "outputs": [],
   "source": [
    "order = 10   \n",
    "    \n",
    "arcspec   = wspec[0, order, :]\n",
    "    \n",
    "arcspec           = arcspec - np.min( arcspec )\n",
    "belowmed          = np.where( arcspec < np.median( arcspec ) )\n",
    "arcspec[belowmed] = np.median( arcspec )\n",
    "logarcspec        = np.log10( arcspec )\n",
    "logarcspec        = logarcspec - np.min( logarcspec )\n",
    "        \n",
    "maxwav   = 4226.6\n",
    "minwav   = 4157.3\n",
    "roughwav = np.linspace( minwav, maxwav, len(arcspec) )\n",
    "\n",
    "THAR        = fits.open( codedir + 'thar_photron.fits' )[0]\n",
    "THARhead    = THAR.header\n",
    "THARspec    = THAR.data\n",
    "THARwav     = np.arange( len( THARspec ) ) * THARhead['CDELT1'] + THARhead['CRVAL1']\n",
    "THARlines   = readcol.readcol( codedir + 'ThAr_list.txt', asRecArray = True )\n",
    "logTHARspec = np.log10(THARspec)\n",
    "\n",
    "plt.clf()\n",
    "plt.plot( roughwav, logarcspec, 'k-' )\n",
    "plt.plot( THARwav, logTHARspec, 'r-' )\n",
    "plt.xlim( minwav, maxwav )\n",
    "plt.show()"
   ]
  },
  {
   "cell_type": "code",
   "execution_count": null,
   "metadata": {
    "collapsed": true
   },
   "outputs": [],
   "source": []
  }
 ],
 "metadata": {
  "git": {
   "suppress_outputs": true
  },
  "kernelspec": {
   "display_name": "Python 2",
   "language": "python",
   "name": "python2"
  },
  "language_info": {
   "codemirror_mode": {
    "name": "ipython",
    "version": 2
   },
   "file_extension": ".py",
   "mimetype": "text/x-python",
   "name": "python",
   "nbconvert_exporter": "python",
   "pygments_lexer": "ipython2",
   "version": "2.7.13"
  }
 },
 "nbformat": 4,
 "nbformat_minor": 1
}
